{
 "cells": [
  {
   "cell_type": "code",
   "execution_count": 6,
   "metadata": {
    "collapsed": true
   },
   "outputs": [],
   "source": [
    "import pickle\n",
    "import pandas as pd\n",
    "import os\n",
    "import shutil\n",
    "import collections\n",
    "import csv\n",
    "from IPython.core.display import HTML"
   ]
  },
  {
   "cell_type": "code",
   "execution_count": 7,
   "metadata": {
    "collapsed": true
   },
   "outputs": [],
   "source": [
    "#Initial Preparation \n",
    "path = \"/data/WorkData/firmEmbeddings/CaseData/PickleFiles/\"\n",
    "for i in range(2012,2014):\n",
    "    path1=path+str(i)\n",
    "    os.makedirs(path1, exist_ok=True)\n",
    "    for j in range(1,13):\n",
    "        path2=path1+\"/\"+str(j)\n",
    "        os.makedirs(path2, exist_ok=True)\n",
    "\n",
    "    \n"
   ]
  },
  {
   "cell_type": "code",
   "execution_count": 8,
   "metadata": {},
   "outputs": [
    {
     "name": "stdout",
     "output_type": "stream",
     "text": [
      ".DS_Store\n",
      "folder cant be opened\n"
     ]
    }
   ],
   "source": [
    "#Pickle Files\n",
    "\n",
    "folders = os.listdir(\"/data/WorkData/firmEmbeddings/CaseData/[20180208]build_vocab_lemma_pos/phrased\")\n",
    "allfiles = collections.defaultdict(list)\n",
    "\n",
    "for f in folders:\n",
    "    if(1):\n",
    "        \n",
    "        pathname = os.path.join(\"/data/WorkData/firmEmbeddings/CaseData/[20180208]build_vocab_lemma_pos/phrased/\", f)\n",
    "       \n",
    "        try:\n",
    "            files=os.listdir(pathname)\n",
    "            \n",
    "            allfiles[f]=files\n",
    "        except:\n",
    "            print(f)\n",
    "            print(\"folder cant be opened\")\n",
    "            continue\n"
   ]
  },
  {
   "cell_type": "code",
   "execution_count": 9,
   "metadata": {},
   "outputs": [
    {
     "name": "stdout",
     "output_type": "stream",
     "text": [
      "Checking files in for category 6 and 7 file\n",
      "10381\n",
      "2013\n",
      "4024\n",
      "2012\n",
      "4579\n",
      "1103\n",
      "10381\n",
      "14\n"
     ]
    }
   ],
   "source": [
    "print(\"Checking files in for category 6 and 7 file\")\n",
    "casedata = pd.read_pickle('/data/WorkData/firmEmbeddings/CaseData/casedata.pkl')\n",
    "print(len(casedata))\n",
    "tc=0\n",
    "error=0\n",
    "files_present={}\n",
    "caseid_filenames={}\n",
    "caseid_year={}\n",
    "for folder in allfiles:\n",
    "    if(folder==\"2013\" or folder==\"2012\"):\n",
    "        print(folder)\n",
    "        files=allfiles[folder]\n",
    "        \n",
    "        print(len(files))\n",
    "\n",
    "        for file in files:\n",
    "            file1=file.split(\"_\")[0]\n",
    "            if file1 in casedata.index and \"MajOp\" in file:\n",
    "\n",
    "                if file in files_present:\n",
    "\n",
    "                    print(\"duplicate\")\n",
    "\n",
    "\n",
    "\n",
    "\n",
    "                else:\n",
    "                    #casedata.loc[file1,'filename']= file\n",
    "                    #casedata.loc[file1,'year']= yer\n",
    "                    files_present[file]=folder\n",
    "                        \n",
    "                try:\n",
    "                    ye=casedata.loc[file1,'Year']\n",
    "                    qu=casedata.loc[file1,'Month']\n",
    "                \n",
    "                    \n",
    "                    \n",
    "                    dest=\"/data/WorkData/firmEmbeddings/CaseData/PickleFiles/\"+str(ye)+\"/\"+qu   \n",
    "                   \n",
    "                    source=\"/data/WorkData/firmEmbeddings/CaseData/[20180208]build_vocab_lemma_pos/phrased/\"+files_present[file]+\"/\"+file\n",
    "\n",
    "\n",
    "\n",
    "                    shutil.copy(source, dest)\n",
    "                        \n",
    "                except:\n",
    "                    \n",
    "                    error=error+1\n",
    "                    #print(\"error\")\n",
    "                    #print(file)\n",
    "                    #print(casedata.loc[file1])\n",
    "\n",
    "print(len(files_present))\n",
    "print(len(casedata))\n",
    "\n",
    "print(error)\n"
   ]
  },
  {
   "cell_type": "code",
   "execution_count": 11,
   "metadata": {},
   "outputs": [
    {
     "name": "stdout",
     "output_type": "stream",
     "text": [
      "['9', '11', '7', '6', '1', '10', '8', '4', '3', '12', '2', '5']\n",
      "477\n",
      "['9', '11', '7', '6', '1', '10', '8', '4', '3', '12', '2', '5']\n",
      "612\n"
     ]
    }
   ],
   "source": [
    "path=\"/data/WorkData/firmEmbeddings/CaseData/PickleFiles/\"\n",
    "fol=os.listdir(path)  \n",
    "for f in fol:\n",
    "    try:\n",
    "        fsub=os.listdir(path+\"/\"+f)\n",
    "        print(fsub)\n",
    "        tot=0\n",
    "        for fs in fsub:\n",
    "            \n",
    "            files=os.listdir(path+\"/\"+f+\"/\"+fs)\n",
    "            tot=tot+len(files)\n",
    "        print(tot)\n",
    "    except:\n",
    "        print(\"error\", f)\n"
   ]
  },
  {
   "cell_type": "code",
   "execution_count": null,
   "metadata": {
    "collapsed": true
   },
   "outputs": [],
   "source": []
  }
 ],
 "metadata": {
  "kernelspec": {
   "display_name": "Python 3",
   "language": "python",
   "name": "python3"
  },
  "language_info": {
   "codemirror_mode": {
    "name": "ipython",
    "version": 3
   },
   "file_extension": ".py",
   "mimetype": "text/x-python",
   "name": "python",
   "nbconvert_exporter": "python",
   "pygments_lexer": "ipython3",
   "version": "3.6.3"
  }
 },
 "nbformat": 4,
 "nbformat_minor": 2
}
