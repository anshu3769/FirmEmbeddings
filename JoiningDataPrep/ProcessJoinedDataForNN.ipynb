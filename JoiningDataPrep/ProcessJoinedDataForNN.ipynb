{
 "cells": [
  {
   "cell_type": "code",
   "execution_count": 1,
   "metadata": {
    "collapsed": true
   },
   "outputs": [],
   "source": [
    "import csv\n",
    "import pandas as pd\n",
    "import pickle\n",
    "from numpy import random"
   ]
  },
  {
   "cell_type": "code",
   "execution_count": 2,
   "metadata": {
    "collapsed": true
   },
   "outputs": [],
   "source": [
    "with  open('/data/WorkData/firmEmbeddings/JoinDataPrep/testing_data_CaseCompanyStockChange.pkl' , 'rb') as f:\n",
    "    testf = pd.read_pickle(f)"
   ]
  },
  {
   "cell_type": "code",
   "execution_count": 3,
   "metadata": {
    "collapsed": true
   },
   "outputs": [],
   "source": [
    "\n",
    "with  open('/data/WorkData/firmEmbeddings/JoinDataPrep/training_data_CaseCompanyStockChange.pkl' , 'rb') as f:\n",
    "    trainf = pd.read_pickle(f)"
   ]
  },
  {
   "cell_type": "code",
   "execution_count": 4,
   "metadata": {},
   "outputs": [
    {
     "data": {
      "text/html": [
       "<div>\n",
       "<style>\n",
       "    .dataframe thead tr:only-child th {\n",
       "        text-align: right;\n",
       "    }\n",
       "\n",
       "    .dataframe thead th {\n",
       "        text-align: left;\n",
       "    }\n",
       "\n",
       "    .dataframe tbody tr th {\n",
       "        vertical-align: top;\n",
       "    }\n",
       "</style>\n",
       "<table border=\"1\" class=\"dataframe\">\n",
       "  <thead>\n",
       "    <tr style=\"text-align: right;\">\n",
       "      <th></th>\n",
       "      <th>CaseId</th>\n",
       "      <th>Date</th>\n",
       "      <th>Vector</th>\n",
       "      <th>Year</th>\n",
       "      <th>Month</th>\n",
       "      <th>Category</th>\n",
       "      <th>Sub-Category</th>\n",
       "      <th>CompanyName</th>\n",
       "      <th>ClosingPrice</th>\n",
       "      <th>City</th>\n",
       "      <th>State</th>\n",
       "      <th>NAICS</th>\n",
       "      <th>LogDiff</th>\n",
       "    </tr>\n",
       "  </thead>\n",
       "  <tbody>\n",
       "    <tr>\n",
       "      <th>0</th>\n",
       "      <td>X16G9CO003</td>\n",
       "      <td>2007-03-19</td>\n",
       "      <td>[-1.08903, -2.65365, 1.82479, -4.44473, 0.0766...</td>\n",
       "      <td>2007</td>\n",
       "      <td>3</td>\n",
       "      <td>7.0</td>\n",
       "      <td>Antitrust &amp; Trade</td>\n",
       "      <td>AAR CORP</td>\n",
       "      <td>31.98</td>\n",
       "      <td>Wood Dale</td>\n",
       "      <td>IL</td>\n",
       "      <td>423860.0</td>\n",
       "      <td>-0.256809</td>\n",
       "    </tr>\n",
       "  </tbody>\n",
       "</table>\n",
       "</div>"
      ],
      "text/plain": [
       "       CaseId       Date                                             Vector  \\\n",
       "0  X16G9CO003 2007-03-19  [-1.08903, -2.65365, 1.82479, -4.44473, 0.0766...   \n",
       "\n",
       "   Year Month  Category       Sub-Category CompanyName  ClosingPrice  \\\n",
       "0  2007     3       7.0  Antitrust & Trade    AAR CORP         31.98   \n",
       "\n",
       "        City State     NAICS   LogDiff  \n",
       "0  Wood Dale    IL  423860.0 -0.256809  "
      ]
     },
     "execution_count": 4,
     "metadata": {},
     "output_type": "execute_result"
    }
   ],
   "source": [
    "trainf.head(1)"
   ]
  },
  {
   "cell_type": "code",
   "execution_count": 5,
   "metadata": {
    "collapsed": true
   },
   "outputs": [],
   "source": [
    "with  open('/data/WorkData/firmEmbeddings/JoinDataPrep/validation_data_CaseCompanyStockChange.pkl' , 'rb') as f:\n",
    "    valf = pd.read_pickle(f)"
   ]
  },
  {
   "cell_type": "markdown",
   "metadata": {},
   "source": [
    "# Find common companies in Train, Test, Val data"
   ]
  },
  {
   "cell_type": "code",
   "execution_count": 6,
   "metadata": {
    "collapsed": true
   },
   "outputs": [],
   "source": [
    "test_c=list(testf['CompanyName'].unique())\n",
    "train_c=list(trainf['CompanyName'].unique())\n",
    "val_c=list(valf['CompanyName'].unique())"
   ]
  },
  {
   "cell_type": "code",
   "execution_count": 7,
   "metadata": {},
   "outputs": [
    {
     "name": "stdout",
     "output_type": "stream",
     "text": [
      "840\n",
      "1069\n",
      "954\n"
     ]
    }
   ],
   "source": [
    "print(len(test_c))\n",
    "print(len(train_c))\n",
    "print(len(val_c))"
   ]
  },
  {
   "cell_type": "code",
   "execution_count": 8,
   "metadata": {},
   "outputs": [
    {
     "name": "stdout",
     "output_type": "stream",
     "text": [
      "709\n"
     ]
    }
   ],
   "source": [
    "inter=list(set(train_c) & set(test_c) & set(val_c))\n",
    "print(len(inter))"
   ]
  },
  {
   "cell_type": "code",
   "execution_count": 9,
   "metadata": {
    "collapsed": true
   },
   "outputs": [],
   "source": [
    "#used in stock prediction for reducing the total data\n",
    "#inter=random.choice(inter,610)\n",
    "#print(len(inter))(392 firms)"
   ]
  },
  {
   "cell_type": "code",
   "execution_count": 10,
   "metadata": {
    "collapsed": true
   },
   "outputs": [],
   "source": [
    "trainf = trainf[trainf['CompanyName'].isin(inter)]\n",
    "testf = testf[testf['CompanyName'].isin(inter)]\n",
    "valf = valf[valf['CompanyName'].isin(inter)]"
   ]
  },
  {
   "cell_type": "code",
   "execution_count": 11,
   "metadata": {},
   "outputs": [
    {
     "name": "stdout",
     "output_type": "stream",
     "text": [
      "709\n",
      "709\n",
      "709\n"
     ]
    }
   ],
   "source": [
    "print(len(list(testf['CompanyName'].unique())))\n",
    "print(len(list(trainf['CompanyName'].unique())))\n",
    "print(len(list(valf['CompanyName'].unique())))"
   ]
  },
  {
   "cell_type": "code",
   "execution_count": 12,
   "metadata": {
    "collapsed": true
   },
   "outputs": [],
   "source": [
    "trainf=trainf.reset_index()\n",
    "valf=valf.reset_index()\n",
    "testf=testf.reset_index()\n"
   ]
  },
  {
   "cell_type": "code",
   "execution_count": 13,
   "metadata": {},
   "outputs": [
    {
     "data": {
      "text/html": [
       "<div>\n",
       "<style>\n",
       "    .dataframe thead tr:only-child th {\n",
       "        text-align: right;\n",
       "    }\n",
       "\n",
       "    .dataframe thead th {\n",
       "        text-align: left;\n",
       "    }\n",
       "\n",
       "    .dataframe tbody tr th {\n",
       "        vertical-align: top;\n",
       "    }\n",
       "</style>\n",
       "<table border=\"1\" class=\"dataframe\">\n",
       "  <thead>\n",
       "    <tr style=\"text-align: right;\">\n",
       "      <th></th>\n",
       "      <th>index</th>\n",
       "      <th>CaseId</th>\n",
       "      <th>Date</th>\n",
       "      <th>Vector</th>\n",
       "      <th>Year</th>\n",
       "      <th>Month</th>\n",
       "      <th>Category</th>\n",
       "      <th>Sub-Category</th>\n",
       "      <th>CompanyName</th>\n",
       "      <th>ClosingPrice</th>\n",
       "      <th>City</th>\n",
       "      <th>State</th>\n",
       "      <th>NAICS</th>\n",
       "      <th>LogDiff</th>\n",
       "    </tr>\n",
       "  </thead>\n",
       "  <tbody>\n",
       "    <tr>\n",
       "      <th>0</th>\n",
       "      <td>0</td>\n",
       "      <td>X16G9CO003</td>\n",
       "      <td>2007-03-19</td>\n",
       "      <td>[-1.08903, -2.65365, 1.82479, -4.44473, 0.0766...</td>\n",
       "      <td>2007</td>\n",
       "      <td>3</td>\n",
       "      <td>7.0</td>\n",
       "      <td>Antitrust &amp; Trade</td>\n",
       "      <td>AAR CORP</td>\n",
       "      <td>31.98</td>\n",
       "      <td>Wood Dale</td>\n",
       "      <td>IL</td>\n",
       "      <td>423860.0</td>\n",
       "      <td>-0.256809</td>\n",
       "    </tr>\n",
       "  </tbody>\n",
       "</table>\n",
       "</div>"
      ],
      "text/plain": [
       "   index      CaseId       Date  \\\n",
       "0      0  X16G9CO003 2007-03-19   \n",
       "\n",
       "                                              Vector  Year Month  Category  \\\n",
       "0  [-1.08903, -2.65365, 1.82479, -4.44473, 0.0766...  2007     3       7.0   \n",
       "\n",
       "        Sub-Category CompanyName  ClosingPrice       City State     NAICS  \\\n",
       "0  Antitrust & Trade    AAR CORP         31.98  Wood Dale    IL  423860.0   \n",
       "\n",
       "    LogDiff  \n",
       "0 -0.256809  "
      ]
     },
     "execution_count": 13,
     "metadata": {},
     "output_type": "execute_result"
    }
   ],
   "source": [
    "trainf.head(1)"
   ]
  },
  {
   "cell_type": "markdown",
   "metadata": {},
   "source": [
    "# Separate Word Vector in Columns"
   ]
  },
  {
   "cell_type": "code",
   "execution_count": 14,
   "metadata": {
    "collapsed": true
   },
   "outputs": [],
   "source": [
    "wordvector_train=pd.DataFrame(trainf['Vector'].values.tolist())"
   ]
  },
  {
   "cell_type": "code",
   "execution_count": 15,
   "metadata": {},
   "outputs": [
    {
     "name": "stdout",
     "output_type": "stream",
     "text": [
      "         0         1         2         3         4         5         6   \\\n",
      "0 -5.355756 -4.489954 -1.216706 -0.793479  3.504418 -1.319556  1.916924   \n",
      "\n",
      "         7         8         9     ...           90        91        92  \\\n",
      "0  2.390682 -3.472963 -1.067831    ...    -0.825897 -0.466171  2.781183   \n",
      "\n",
      "         93        94        95        96        97        98        99  \n",
      "0 -3.971036 -1.978958 -1.044919  2.051879 -1.254211  0.406413  0.681512  \n",
      "\n",
      "[1 rows x 100 columns]\n"
     ]
    },
    {
     "data": {
      "text/html": [
       "<div>\n",
       "<style>\n",
       "    .dataframe thead tr:only-child th {\n",
       "        text-align: right;\n",
       "    }\n",
       "\n",
       "    .dataframe thead th {\n",
       "        text-align: left;\n",
       "    }\n",
       "\n",
       "    .dataframe tbody tr th {\n",
       "        vertical-align: top;\n",
       "    }\n",
       "</style>\n",
       "<table border=\"1\" class=\"dataframe\">\n",
       "  <thead>\n",
       "    <tr style=\"text-align: right;\">\n",
       "      <th></th>\n",
       "      <th>0</th>\n",
       "      <th>1</th>\n",
       "      <th>2</th>\n",
       "      <th>3</th>\n",
       "      <th>4</th>\n",
       "      <th>5</th>\n",
       "      <th>6</th>\n",
       "      <th>7</th>\n",
       "      <th>8</th>\n",
       "      <th>9</th>\n",
       "      <th>...</th>\n",
       "      <th>90</th>\n",
       "      <th>91</th>\n",
       "      <th>92</th>\n",
       "      <th>93</th>\n",
       "      <th>94</th>\n",
       "      <th>95</th>\n",
       "      <th>96</th>\n",
       "      <th>97</th>\n",
       "      <th>98</th>\n",
       "      <th>99</th>\n",
       "    </tr>\n",
       "  </thead>\n",
       "  <tbody>\n",
       "    <tr>\n",
       "      <th>0</th>\n",
       "      <td>-0.62676</td>\n",
       "      <td>-6.116092</td>\n",
       "      <td>-0.269485</td>\n",
       "      <td>-5.111804</td>\n",
       "      <td>-2.906082</td>\n",
       "      <td>0.131607</td>\n",
       "      <td>-7.342483</td>\n",
       "      <td>4.433392</td>\n",
       "      <td>-2.143173</td>\n",
       "      <td>-1.813515</td>\n",
       "      <td>...</td>\n",
       "      <td>1.534278</td>\n",
       "      <td>-0.426758</td>\n",
       "      <td>1.065249</td>\n",
       "      <td>-2.246587</td>\n",
       "      <td>-1.925198</td>\n",
       "      <td>-0.831991</td>\n",
       "      <td>-4.984458</td>\n",
       "      <td>1.893231</td>\n",
       "      <td>0.205362</td>\n",
       "      <td>0.936111</td>\n",
       "    </tr>\n",
       "  </tbody>\n",
       "</table>\n",
       "<p>1 rows × 100 columns</p>\n",
       "</div>"
      ],
      "text/plain": [
       "        0         1         2         3         4         5         6   \\\n",
       "0 -0.62676 -6.116092 -0.269485 -5.111804 -2.906082  0.131607 -7.342483   \n",
       "\n",
       "         7         8         9     ...           90        91        92  \\\n",
       "0  4.433392 -2.143173 -1.813515    ...     1.534278 -0.426758  1.065249   \n",
       "\n",
       "         93        94        95        96        97        98        99  \n",
       "0 -2.246587 -1.925198 -0.831991 -4.984458  1.893231  0.205362  0.936111  \n",
       "\n",
       "[1 rows x 100 columns]"
      ]
     },
     "execution_count": 15,
     "metadata": {},
     "output_type": "execute_result"
    }
   ],
   "source": [
    "wordvector_test=pd.DataFrame(testf['Vector'].values.tolist())\n",
    "wordvector_val=pd.DataFrame(valf['Vector'].values.tolist())\n",
    "print(wordvector_test.head(1))\n",
    "wordvector_val.head(1)"
   ]
  },
  {
   "cell_type": "code",
   "execution_count": 16,
   "metadata": {
    "collapsed": true
   },
   "outputs": [],
   "source": [
    "trainff1=trainf.drop('Vector',axis=1)\n",
    "testff1=testf.drop('Vector',axis=1)\n",
    "valff1=valf.drop('Vector',axis=1)"
   ]
  },
  {
   "cell_type": "code",
   "execution_count": 17,
   "metadata": {
    "collapsed": true
   },
   "outputs": [],
   "source": [
    "trainfff=pd.concat([trainff1,wordvector_train],axis=1)\n",
    "testfff=pd.concat([testff1,wordvector_test],axis=1)\n",
    "valfff=pd.concat([valff1,wordvector_val],axis=1)"
   ]
  },
  {
   "cell_type": "code",
   "execution_count": 18,
   "metadata": {
    "collapsed": true
   },
   "outputs": [],
   "source": [
    "trainfff=trainfff.drop('index',axis=1)\n",
    "testfff=testfff.drop('index',axis=1)\n",
    "valfff=valfff.drop('index',axis=1)"
   ]
  },
  {
   "cell_type": "code",
   "execution_count": 19,
   "metadata": {},
   "outputs": [
    {
     "data": {
      "text/html": [
       "<div>\n",
       "<style>\n",
       "    .dataframe thead tr:only-child th {\n",
       "        text-align: right;\n",
       "    }\n",
       "\n",
       "    .dataframe thead th {\n",
       "        text-align: left;\n",
       "    }\n",
       "\n",
       "    .dataframe tbody tr th {\n",
       "        vertical-align: top;\n",
       "    }\n",
       "</style>\n",
       "<table border=\"1\" class=\"dataframe\">\n",
       "  <thead>\n",
       "    <tr style=\"text-align: right;\">\n",
       "      <th></th>\n",
       "      <th>CaseId</th>\n",
       "      <th>Date</th>\n",
       "      <th>Year</th>\n",
       "      <th>Month</th>\n",
       "      <th>Category</th>\n",
       "      <th>Sub-Category</th>\n",
       "      <th>CompanyName</th>\n",
       "      <th>ClosingPrice</th>\n",
       "      <th>City</th>\n",
       "      <th>State</th>\n",
       "      <th>...</th>\n",
       "      <th>90</th>\n",
       "      <th>91</th>\n",
       "      <th>92</th>\n",
       "      <th>93</th>\n",
       "      <th>94</th>\n",
       "      <th>95</th>\n",
       "      <th>96</th>\n",
       "      <th>97</th>\n",
       "      <th>98</th>\n",
       "      <th>99</th>\n",
       "    </tr>\n",
       "  </thead>\n",
       "  <tbody>\n",
       "    <tr>\n",
       "      <th>0</th>\n",
       "      <td>X1HT4F0N</td>\n",
       "      <td>2013-05-21</td>\n",
       "      <td>2013</td>\n",
       "      <td>5</td>\n",
       "      <td>7.0</td>\n",
       "      <td>Consumer Law</td>\n",
       "      <td>AAR CORP</td>\n",
       "      <td>19.67</td>\n",
       "      <td>Wood Dale</td>\n",
       "      <td>IL</td>\n",
       "      <td>...</td>\n",
       "      <td>-0.825897</td>\n",
       "      <td>-0.466171</td>\n",
       "      <td>2.781183</td>\n",
       "      <td>-3.971036</td>\n",
       "      <td>-1.978958</td>\n",
       "      <td>-1.044919</td>\n",
       "      <td>2.051879</td>\n",
       "      <td>-1.254211</td>\n",
       "      <td>0.406413</td>\n",
       "      <td>0.681512</td>\n",
       "    </tr>\n",
       "  </tbody>\n",
       "</table>\n",
       "<p>1 rows × 112 columns</p>\n",
       "</div>"
      ],
      "text/plain": [
       "     CaseId       Date  Year Month  Category  Sub-Category CompanyName  \\\n",
       "0  X1HT4F0N 2013-05-21  2013     5       7.0  Consumer Law    AAR CORP   \n",
       "\n",
       "   ClosingPrice       City State    ...           90        91        92  \\\n",
       "0         19.67  Wood Dale    IL    ...    -0.825897 -0.466171  2.781183   \n",
       "\n",
       "         93        94        95        96        97        98        99  \n",
       "0 -3.971036 -1.978958 -1.044919  2.051879 -1.254211  0.406413  0.681512  \n",
       "\n",
       "[1 rows x 112 columns]"
      ]
     },
     "execution_count": 19,
     "metadata": {},
     "output_type": "execute_result"
    }
   ],
   "source": [
    "testfff.to_pickle('/data/WorkData/firmEmbeddings/JoinDataPrep/test_data_final.pkl')\n",
    "testfff.head(1)"
   ]
  },
  {
   "cell_type": "code",
   "execution_count": 20,
   "metadata": {},
   "outputs": [
    {
     "data": {
      "text/html": [
       "<div>\n",
       "<style>\n",
       "    .dataframe thead tr:only-child th {\n",
       "        text-align: right;\n",
       "    }\n",
       "\n",
       "    .dataframe thead th {\n",
       "        text-align: left;\n",
       "    }\n",
       "\n",
       "    .dataframe tbody tr th {\n",
       "        vertical-align: top;\n",
       "    }\n",
       "</style>\n",
       "<table border=\"1\" class=\"dataframe\">\n",
       "  <thead>\n",
       "    <tr style=\"text-align: right;\">\n",
       "      <th></th>\n",
       "      <th>CaseId</th>\n",
       "      <th>Date</th>\n",
       "      <th>Year</th>\n",
       "      <th>Month</th>\n",
       "      <th>Category</th>\n",
       "      <th>Sub-Category</th>\n",
       "      <th>CompanyName</th>\n",
       "      <th>ClosingPrice</th>\n",
       "      <th>City</th>\n",
       "      <th>State</th>\n",
       "      <th>...</th>\n",
       "      <th>90</th>\n",
       "      <th>91</th>\n",
       "      <th>92</th>\n",
       "      <th>93</th>\n",
       "      <th>94</th>\n",
       "      <th>95</th>\n",
       "      <th>96</th>\n",
       "      <th>97</th>\n",
       "      <th>98</th>\n",
       "      <th>99</th>\n",
       "    </tr>\n",
       "  </thead>\n",
       "  <tbody>\n",
       "    <tr>\n",
       "      <th>0</th>\n",
       "      <td>X1HND4A003</td>\n",
       "      <td>2012-05-11</td>\n",
       "      <td>2012</td>\n",
       "      <td>5</td>\n",
       "      <td>7.0</td>\n",
       "      <td>Contracts</td>\n",
       "      <td>AAR CORP</td>\n",
       "      <td>14.95</td>\n",
       "      <td>Wood Dale</td>\n",
       "      <td>IL</td>\n",
       "      <td>...</td>\n",
       "      <td>1.534278</td>\n",
       "      <td>-0.426758</td>\n",
       "      <td>1.065249</td>\n",
       "      <td>-2.246587</td>\n",
       "      <td>-1.925198</td>\n",
       "      <td>-0.831991</td>\n",
       "      <td>-4.984458</td>\n",
       "      <td>1.893231</td>\n",
       "      <td>0.205362</td>\n",
       "      <td>0.936111</td>\n",
       "    </tr>\n",
       "  </tbody>\n",
       "</table>\n",
       "<p>1 rows × 112 columns</p>\n",
       "</div>"
      ],
      "text/plain": [
       "       CaseId       Date  Year Month  Category Sub-Category CompanyName  \\\n",
       "0  X1HND4A003 2012-05-11  2012     5       7.0    Contracts    AAR CORP   \n",
       "\n",
       "   ClosingPrice       City State    ...           90        91        92  \\\n",
       "0         14.95  Wood Dale    IL    ...     1.534278 -0.426758  1.065249   \n",
       "\n",
       "         93        94        95        96        97        98        99  \n",
       "0 -2.246587 -1.925198 -0.831991 -4.984458  1.893231  0.205362  0.936111  \n",
       "\n",
       "[1 rows x 112 columns]"
      ]
     },
     "execution_count": 20,
     "metadata": {},
     "output_type": "execute_result"
    }
   ],
   "source": [
    "valfff.to_pickle('/data/WorkData/firmEmbeddings/JoinDataPrep/val_data_final.pkl')\n",
    "valfff.head(1)"
   ]
  },
  {
   "cell_type": "code",
   "execution_count": 21,
   "metadata": {},
   "outputs": [
    {
     "data": {
      "text/html": [
       "<div>\n",
       "<style>\n",
       "    .dataframe thead tr:only-child th {\n",
       "        text-align: right;\n",
       "    }\n",
       "\n",
       "    .dataframe thead th {\n",
       "        text-align: left;\n",
       "    }\n",
       "\n",
       "    .dataframe tbody tr th {\n",
       "        vertical-align: top;\n",
       "    }\n",
       "</style>\n",
       "<table border=\"1\" class=\"dataframe\">\n",
       "  <thead>\n",
       "    <tr style=\"text-align: right;\">\n",
       "      <th></th>\n",
       "      <th>CaseId</th>\n",
       "      <th>Date</th>\n",
       "      <th>Year</th>\n",
       "      <th>Month</th>\n",
       "      <th>Category</th>\n",
       "      <th>Sub-Category</th>\n",
       "      <th>CompanyName</th>\n",
       "      <th>ClosingPrice</th>\n",
       "      <th>City</th>\n",
       "      <th>State</th>\n",
       "      <th>...</th>\n",
       "      <th>90</th>\n",
       "      <th>91</th>\n",
       "      <th>92</th>\n",
       "      <th>93</th>\n",
       "      <th>94</th>\n",
       "      <th>95</th>\n",
       "      <th>96</th>\n",
       "      <th>97</th>\n",
       "      <th>98</th>\n",
       "      <th>99</th>\n",
       "    </tr>\n",
       "  </thead>\n",
       "  <tbody>\n",
       "    <tr>\n",
       "      <th>0</th>\n",
       "      <td>X16G9CO003</td>\n",
       "      <td>2007-03-19</td>\n",
       "      <td>2007</td>\n",
       "      <td>3</td>\n",
       "      <td>7.0</td>\n",
       "      <td>Antitrust &amp; Trade</td>\n",
       "      <td>AAR CORP</td>\n",
       "      <td>31.98</td>\n",
       "      <td>Wood Dale</td>\n",
       "      <td>IL</td>\n",
       "      <td>...</td>\n",
       "      <td>-5.636431</td>\n",
       "      <td>-4.206227</td>\n",
       "      <td>-1.013956</td>\n",
       "      <td>-2.96628</td>\n",
       "      <td>-2.119134</td>\n",
       "      <td>-6.137543</td>\n",
       "      <td>-4.695908</td>\n",
       "      <td>-1.898719</td>\n",
       "      <td>-0.154589</td>\n",
       "      <td>-3.179704</td>\n",
       "    </tr>\n",
       "  </tbody>\n",
       "</table>\n",
       "<p>1 rows × 112 columns</p>\n",
       "</div>"
      ],
      "text/plain": [
       "       CaseId       Date  Year Month  Category       Sub-Category CompanyName  \\\n",
       "0  X16G9CO003 2007-03-19  2007     3       7.0  Antitrust & Trade    AAR CORP   \n",
       "\n",
       "   ClosingPrice       City State    ...           90        91        92  \\\n",
       "0         31.98  Wood Dale    IL    ...    -5.636431 -4.206227 -1.013956   \n",
       "\n",
       "        93        94        95        96        97        98        99  \n",
       "0 -2.96628 -2.119134 -6.137543 -4.695908 -1.898719 -0.154589 -3.179704  \n",
       "\n",
       "[1 rows x 112 columns]"
      ]
     },
     "execution_count": 21,
     "metadata": {},
     "output_type": "execute_result"
    }
   ],
   "source": [
    "trainfff.to_pickle('/data/WorkData/firmEmbeddings/JoinDataPrep/train_data_final.pkl')\n",
    "trainfff.head(1)"
   ]
  },
  {
   "cell_type": "code",
   "execution_count": null,
   "metadata": {
    "collapsed": true
   },
   "outputs": [],
   "source": []
  },
  {
   "cell_type": "code",
   "execution_count": null,
   "metadata": {
    "collapsed": true
   },
   "outputs": [],
   "source": []
  }
 ],
 "metadata": {
  "kernelspec": {
   "display_name": "Python 3",
   "language": "python",
   "name": "python3"
  },
  "language_info": {
   "codemirror_mode": {
    "name": "ipython",
    "version": 3
   },
   "file_extension": ".py",
   "mimetype": "text/x-python",
   "name": "python",
   "nbconvert_exporter": "python",
   "pygments_lexer": "ipython3",
   "version": "3.6.3"
  }
 },
 "nbformat": 4,
 "nbformat_minor": 2
}
