{
 "cells": [
  {
   "cell_type": "code",
   "execution_count": 1,
   "metadata": {
    "collapsed": true
   },
   "outputs": [],
   "source": [
    "import csv\n",
    "import pandas as pd\n",
    "import pickle\n",
    "from numpy import random\n",
    "from sklearn.manifold import TSNE\n",
    "import re\n",
    "import matplotlib.pyplot as plt"
   ]
  },
  {
   "cell_type": "code",
   "execution_count": 2,
   "metadata": {
    "collapsed": true
   },
   "outputs": [],
   "source": [
    "with  open('/data/WorkData/firmEmbeddings/JoinDataPrep/val_data_final.pkl' , 'rb') as f:\n",
    "    val = pd.read_pickle(f)"
   ]
  },
  {
   "cell_type": "code",
   "execution_count": 3,
   "metadata": {
    "collapsed": true
   },
   "outputs": [],
   "source": [
    "\n",
    "with  open('/data/WorkData/firmEmbeddings/JoinDataPrep/train_data_final.pkl' , 'rb') as f:\n",
    "    train = pd.read_pickle(f)"
   ]
  },
  {
   "cell_type": "code",
   "execution_count": 4,
   "metadata": {
    "collapsed": true
   },
   "outputs": [],
   "source": [
    "with  open('/data/WorkData/firmEmbeddings/JoinDataPrep/test_data_final.pkl' , 'rb') as f:\n",
    "    test = pd.read_pickle(f)\n"
   ]
  },
  {
   "cell_type": "code",
   "execution_count": 5,
   "metadata": {
    "collapsed": true
   },
   "outputs": [],
   "source": [
    "test=pd.get_dummies(data=test, columns=['CompanyName'])\n",
    "train=pd.get_dummies(data=train, columns=['CompanyName'])\n",
    "val=pd.get_dummies(data=val, columns=['CompanyName'])"
   ]
  },
  {
   "cell_type": "code",
   "execution_count": 6,
   "metadata": {},
   "outputs": [
    {
     "data": {
      "text/html": [
       "<div>\n",
       "<style>\n",
       "    .dataframe thead tr:only-child th {\n",
       "        text-align: right;\n",
       "    }\n",
       "\n",
       "    .dataframe thead th {\n",
       "        text-align: left;\n",
       "    }\n",
       "\n",
       "    .dataframe tbody tr th {\n",
       "        vertical-align: top;\n",
       "    }\n",
       "</style>\n",
       "<table border=\"1\" class=\"dataframe\">\n",
       "  <thead>\n",
       "    <tr style=\"text-align: right;\">\n",
       "      <th></th>\n",
       "      <th>CaseId</th>\n",
       "      <th>Date</th>\n",
       "      <th>Year</th>\n",
       "      <th>Month</th>\n",
       "      <th>Category</th>\n",
       "      <th>Sub-Category</th>\n",
       "      <th>ClosingPrice</th>\n",
       "      <th>City</th>\n",
       "      <th>State</th>\n",
       "      <th>NAICS</th>\n",
       "      <th>...</th>\n",
       "      <th>CompanyName_WIDEPOINT CORP</th>\n",
       "      <th>CompanyName_WINTRUST FINANCIAL CORP</th>\n",
       "      <th>CompanyName_WMS INDUSTRIES INC</th>\n",
       "      <th>CompanyName_WOODWARD INC</th>\n",
       "      <th>CompanyName_WPCS INTERNATIONAL INC</th>\n",
       "      <th>CompanyName_XCEL ENERGY INC</th>\n",
       "      <th>CompanyName_XCERRA CORP</th>\n",
       "      <th>CompanyName_XPO LOGISTICS INC</th>\n",
       "      <th>CompanyName_YADKIN FINANCIAL CORP</th>\n",
       "      <th>CompanyName_YAMANA GOLD INC</th>\n",
       "    </tr>\n",
       "  </thead>\n",
       "  <tbody>\n",
       "    <tr>\n",
       "      <th>0</th>\n",
       "      <td>X16G9CO003</td>\n",
       "      <td>2007-03-19</td>\n",
       "      <td>2007</td>\n",
       "      <td>3</td>\n",
       "      <td>7.0</td>\n",
       "      <td>Antitrust &amp; Trade</td>\n",
       "      <td>31.98</td>\n",
       "      <td>Wood Dale</td>\n",
       "      <td>IL</td>\n",
       "      <td>423860.0</td>\n",
       "      <td>...</td>\n",
       "      <td>0</td>\n",
       "      <td>0</td>\n",
       "      <td>0</td>\n",
       "      <td>0</td>\n",
       "      <td>0</td>\n",
       "      <td>0</td>\n",
       "      <td>0</td>\n",
       "      <td>0</td>\n",
       "      <td>0</td>\n",
       "      <td>0</td>\n",
       "    </tr>\n",
       "  </tbody>\n",
       "</table>\n",
       "<p>1 rows × 503 columns</p>\n",
       "</div>"
      ],
      "text/plain": [
       "       CaseId       Date  Year Month  Category       Sub-Category  \\\n",
       "0  X16G9CO003 2007-03-19  2007     3       7.0  Antitrust & Trade   \n",
       "\n",
       "   ClosingPrice       City State     NAICS             ...               \\\n",
       "0         31.98  Wood Dale    IL  423860.0             ...                \n",
       "\n",
       "   CompanyName_WIDEPOINT CORP  CompanyName_WINTRUST FINANCIAL CORP  \\\n",
       "0                           0                                    0   \n",
       "\n",
       "   CompanyName_WMS INDUSTRIES INC  CompanyName_WOODWARD INC  \\\n",
       "0                               0                         0   \n",
       "\n",
       "   CompanyName_WPCS INTERNATIONAL INC  CompanyName_XCEL ENERGY INC  \\\n",
       "0                                   0                            0   \n",
       "\n",
       "   CompanyName_XCERRA CORP  CompanyName_XPO LOGISTICS INC  \\\n",
       "0                        0                              0   \n",
       "\n",
       "   CompanyName_YADKIN FINANCIAL CORP  CompanyName_YAMANA GOLD INC  \n",
       "0                                  0                            0  \n",
       "\n",
       "[1 rows x 503 columns]"
      ]
     },
     "execution_count": 6,
     "metadata": {},
     "output_type": "execute_result"
    }
   ],
   "source": [
    "train.head(1)"
   ]
  },
  {
   "cell_type": "code",
   "execution_count": 7,
   "metadata": {},
   "outputs": [
    {
     "data": {
      "text/html": [
       "<div>\n",
       "<style>\n",
       "    .dataframe thead tr:only-child th {\n",
       "        text-align: right;\n",
       "    }\n",
       "\n",
       "    .dataframe thead th {\n",
       "        text-align: left;\n",
       "    }\n",
       "\n",
       "    .dataframe tbody tr th {\n",
       "        vertical-align: top;\n",
       "    }\n",
       "</style>\n",
       "<table border=\"1\" class=\"dataframe\">\n",
       "  <thead>\n",
       "    <tr style=\"text-align: right;\">\n",
       "      <th></th>\n",
       "      <th>CaseId</th>\n",
       "      <th>Date</th>\n",
       "      <th>Year</th>\n",
       "      <th>Month</th>\n",
       "      <th>Category</th>\n",
       "      <th>Sub-Category</th>\n",
       "      <th>ClosingPrice</th>\n",
       "      <th>City</th>\n",
       "      <th>State</th>\n",
       "      <th>NAICS</th>\n",
       "      <th>...</th>\n",
       "      <th>CompanyName_WIDEPOINT CORP</th>\n",
       "      <th>CompanyName_WINTRUST FINANCIAL CORP</th>\n",
       "      <th>CompanyName_WMS INDUSTRIES INC</th>\n",
       "      <th>CompanyName_WOODWARD INC</th>\n",
       "      <th>CompanyName_WPCS INTERNATIONAL INC</th>\n",
       "      <th>CompanyName_XCEL ENERGY INC</th>\n",
       "      <th>CompanyName_XCERRA CORP</th>\n",
       "      <th>CompanyName_XPO LOGISTICS INC</th>\n",
       "      <th>CompanyName_YADKIN FINANCIAL CORP</th>\n",
       "      <th>CompanyName_YAMANA GOLD INC</th>\n",
       "    </tr>\n",
       "  </thead>\n",
       "  <tbody>\n",
       "    <tr>\n",
       "      <th>0</th>\n",
       "      <td>X1HND4A003</td>\n",
       "      <td>2012-05-11</td>\n",
       "      <td>2012</td>\n",
       "      <td>5</td>\n",
       "      <td>7.0</td>\n",
       "      <td>Contracts</td>\n",
       "      <td>14.95</td>\n",
       "      <td>Wood Dale</td>\n",
       "      <td>IL</td>\n",
       "      <td>423860.0</td>\n",
       "      <td>...</td>\n",
       "      <td>0</td>\n",
       "      <td>0</td>\n",
       "      <td>0</td>\n",
       "      <td>0</td>\n",
       "      <td>0</td>\n",
       "      <td>0</td>\n",
       "      <td>0</td>\n",
       "      <td>0</td>\n",
       "      <td>0</td>\n",
       "      <td>0</td>\n",
       "    </tr>\n",
       "  </tbody>\n",
       "</table>\n",
       "<p>1 rows × 503 columns</p>\n",
       "</div>"
      ],
      "text/plain": [
       "       CaseId       Date  Year Month  Category Sub-Category  ClosingPrice  \\\n",
       "0  X1HND4A003 2012-05-11  2012     5       7.0    Contracts         14.95   \n",
       "\n",
       "        City State     NAICS             ...               \\\n",
       "0  Wood Dale    IL  423860.0             ...                \n",
       "\n",
       "   CompanyName_WIDEPOINT CORP  CompanyName_WINTRUST FINANCIAL CORP  \\\n",
       "0                           0                                    0   \n",
       "\n",
       "   CompanyName_WMS INDUSTRIES INC  CompanyName_WOODWARD INC  \\\n",
       "0                               0                         0   \n",
       "\n",
       "   CompanyName_WPCS INTERNATIONAL INC  CompanyName_XCEL ENERGY INC  \\\n",
       "0                                   0                            0   \n",
       "\n",
       "   CompanyName_XCERRA CORP  CompanyName_XPO LOGISTICS INC  \\\n",
       "0                        0                              0   \n",
       "\n",
       "   CompanyName_YADKIN FINANCIAL CORP  CompanyName_YAMANA GOLD INC  \n",
       "0                                  0                            0  \n",
       "\n",
       "[1 rows x 503 columns]"
      ]
     },
     "execution_count": 7,
     "metadata": {},
     "output_type": "execute_result"
    }
   ],
   "source": [
    "val.head(1)"
   ]
  },
  {
   "cell_type": "code",
   "execution_count": 8,
   "metadata": {},
   "outputs": [
    {
     "data": {
      "text/html": [
       "<div>\n",
       "<style>\n",
       "    .dataframe thead tr:only-child th {\n",
       "        text-align: right;\n",
       "    }\n",
       "\n",
       "    .dataframe thead th {\n",
       "        text-align: left;\n",
       "    }\n",
       "\n",
       "    .dataframe tbody tr th {\n",
       "        vertical-align: top;\n",
       "    }\n",
       "</style>\n",
       "<table border=\"1\" class=\"dataframe\">\n",
       "  <thead>\n",
       "    <tr style=\"text-align: right;\">\n",
       "      <th></th>\n",
       "      <th>CaseId</th>\n",
       "      <th>Date</th>\n",
       "      <th>Year</th>\n",
       "      <th>Month</th>\n",
       "      <th>Category</th>\n",
       "      <th>Sub-Category</th>\n",
       "      <th>ClosingPrice</th>\n",
       "      <th>City</th>\n",
       "      <th>State</th>\n",
       "      <th>NAICS</th>\n",
       "      <th>...</th>\n",
       "      <th>CompanyName_WIDEPOINT CORP</th>\n",
       "      <th>CompanyName_WINTRUST FINANCIAL CORP</th>\n",
       "      <th>CompanyName_WMS INDUSTRIES INC</th>\n",
       "      <th>CompanyName_WOODWARD INC</th>\n",
       "      <th>CompanyName_WPCS INTERNATIONAL INC</th>\n",
       "      <th>CompanyName_XCEL ENERGY INC</th>\n",
       "      <th>CompanyName_XCERRA CORP</th>\n",
       "      <th>CompanyName_XPO LOGISTICS INC</th>\n",
       "      <th>CompanyName_YADKIN FINANCIAL CORP</th>\n",
       "      <th>CompanyName_YAMANA GOLD INC</th>\n",
       "    </tr>\n",
       "  </thead>\n",
       "  <tbody>\n",
       "    <tr>\n",
       "      <th>0</th>\n",
       "      <td>X1HT4F0N</td>\n",
       "      <td>2013-05-21</td>\n",
       "      <td>2013</td>\n",
       "      <td>5</td>\n",
       "      <td>7.0</td>\n",
       "      <td>Consumer Law</td>\n",
       "      <td>19.67</td>\n",
       "      <td>Wood Dale</td>\n",
       "      <td>IL</td>\n",
       "      <td>423860.0</td>\n",
       "      <td>...</td>\n",
       "      <td>0</td>\n",
       "      <td>0</td>\n",
       "      <td>0</td>\n",
       "      <td>0</td>\n",
       "      <td>0</td>\n",
       "      <td>0</td>\n",
       "      <td>0</td>\n",
       "      <td>0</td>\n",
       "      <td>0</td>\n",
       "      <td>0</td>\n",
       "    </tr>\n",
       "  </tbody>\n",
       "</table>\n",
       "<p>1 rows × 503 columns</p>\n",
       "</div>"
      ],
      "text/plain": [
       "     CaseId       Date  Year Month  Category  Sub-Category  ClosingPrice  \\\n",
       "0  X1HT4F0N 2013-05-21  2013     5       7.0  Consumer Law         19.67   \n",
       "\n",
       "        City State     NAICS             ...               \\\n",
       "0  Wood Dale    IL  423860.0             ...                \n",
       "\n",
       "   CompanyName_WIDEPOINT CORP  CompanyName_WINTRUST FINANCIAL CORP  \\\n",
       "0                           0                                    0   \n",
       "\n",
       "   CompanyName_WMS INDUSTRIES INC  CompanyName_WOODWARD INC  \\\n",
       "0                               0                         0   \n",
       "\n",
       "   CompanyName_WPCS INTERNATIONAL INC  CompanyName_XCEL ENERGY INC  \\\n",
       "0                                   0                            0   \n",
       "\n",
       "   CompanyName_XCERRA CORP  CompanyName_XPO LOGISTICS INC  \\\n",
       "0                        0                              0   \n",
       "\n",
       "   CompanyName_YADKIN FINANCIAL CORP  CompanyName_YAMANA GOLD INC  \n",
       "0                                  0                            0  \n",
       "\n",
       "[1 rows x 503 columns]"
      ]
     },
     "execution_count": 8,
     "metadata": {},
     "output_type": "execute_result"
    }
   ],
   "source": [
    "test.head(1)"
   ]
  },
  {
   "cell_type": "markdown",
   "metadata": {},
   "source": [
    "# Divide data in categories"
   ]
  },
  {
   "cell_type": "code",
   "execution_count": 9,
   "metadata": {
    "collapsed": true
   },
   "outputs": [],
   "source": [
    "val7=val.loc[val[\"Category\"]==7]\n",
    "train7=train.loc[train[\"Category\"]==7]\n",
    "test7=test.loc[test[\"Category\"]==7]\n",
    "\n",
    "val6=val.loc[val[\"Category\"]==6]\n",
    "train6=train.loc[train[\"Category\"]==6]\n",
    "test6=test.loc[test[\"Category\"]==6]"
   ]
  },
  {
   "cell_type": "markdown",
   "metadata": {},
   "source": [
    "# Drop extra columns from full Data and create X and Y"
   ]
  },
  {
   "cell_type": "code",
   "execution_count": 10,
   "metadata": {
    "collapsed": true
   },
   "outputs": [],
   "source": [
    "val.drop(['CaseId', 'Date', 'Year', 'Month','ClosingPrice','Category','Sub-Category','City','State','NAICS'], axis=1, inplace=True)\n",
    "\n",
    "test.drop(['CaseId', 'Date', 'Year', 'Month','ClosingPrice','Category','Sub-Category', 'City','State','NAICS'], axis=1, inplace=True)\n",
    "\n",
    "train.drop(['CaseId', 'Date', 'Year', 'Month','ClosingPrice','Category','Sub-Category', 'City','State','NAICS'], axis=1, inplace=True)\n",
    "\n",
    "\n"
   ]
  },
  {
   "cell_type": "code",
   "execution_count": 11,
   "metadata": {
    "collapsed": true
   },
   "outputs": [],
   "source": [
    "ytest=test['LogDiff']\n",
    "xtest=test.drop('LogDiff',axis=1)"
   ]
  },
  {
   "cell_type": "code",
   "execution_count": 12,
   "metadata": {
    "collapsed": true
   },
   "outputs": [],
   "source": [
    "ytrain=train['LogDiff']\n",
    "xtrain=train.drop('LogDiff',axis=1)"
   ]
  },
  {
   "cell_type": "code",
   "execution_count": 13,
   "metadata": {
    "collapsed": true
   },
   "outputs": [],
   "source": [
    "yval=val['LogDiff']\n",
    "xval=val.drop('LogDiff',axis=1)"
   ]
  },
  {
   "cell_type": "code",
   "execution_count": 14,
   "metadata": {},
   "outputs": [
    {
     "data": {
      "text/html": [
       "<div>\n",
       "<style>\n",
       "    .dataframe thead tr:only-child th {\n",
       "        text-align: right;\n",
       "    }\n",
       "\n",
       "    .dataframe thead th {\n",
       "        text-align: left;\n",
       "    }\n",
       "\n",
       "    .dataframe tbody tr th {\n",
       "        vertical-align: top;\n",
       "    }\n",
       "</style>\n",
       "<table border=\"1\" class=\"dataframe\">\n",
       "  <thead>\n",
       "    <tr style=\"text-align: right;\">\n",
       "      <th></th>\n",
       "      <th>0</th>\n",
       "      <th>1</th>\n",
       "      <th>2</th>\n",
       "      <th>3</th>\n",
       "      <th>4</th>\n",
       "      <th>5</th>\n",
       "      <th>6</th>\n",
       "      <th>7</th>\n",
       "      <th>8</th>\n",
       "      <th>9</th>\n",
       "      <th>...</th>\n",
       "      <th>CompanyName_WIDEPOINT CORP</th>\n",
       "      <th>CompanyName_WINTRUST FINANCIAL CORP</th>\n",
       "      <th>CompanyName_WMS INDUSTRIES INC</th>\n",
       "      <th>CompanyName_WOODWARD INC</th>\n",
       "      <th>CompanyName_WPCS INTERNATIONAL INC</th>\n",
       "      <th>CompanyName_XCEL ENERGY INC</th>\n",
       "      <th>CompanyName_XCERRA CORP</th>\n",
       "      <th>CompanyName_XPO LOGISTICS INC</th>\n",
       "      <th>CompanyName_YADKIN FINANCIAL CORP</th>\n",
       "      <th>CompanyName_YAMANA GOLD INC</th>\n",
       "    </tr>\n",
       "  </thead>\n",
       "  <tbody>\n",
       "    <tr>\n",
       "      <th>0</th>\n",
       "      <td>-1.089033</td>\n",
       "      <td>-2.653652</td>\n",
       "      <td>1.824786</td>\n",
       "      <td>-4.444734</td>\n",
       "      <td>0.076666</td>\n",
       "      <td>-2.028076</td>\n",
       "      <td>2.592533</td>\n",
       "      <td>1.273521</td>\n",
       "      <td>-1.953467</td>\n",
       "      <td>0.336785</td>\n",
       "      <td>...</td>\n",
       "      <td>0</td>\n",
       "      <td>0</td>\n",
       "      <td>0</td>\n",
       "      <td>0</td>\n",
       "      <td>0</td>\n",
       "      <td>0</td>\n",
       "      <td>0</td>\n",
       "      <td>0</td>\n",
       "      <td>0</td>\n",
       "      <td>0</td>\n",
       "    </tr>\n",
       "    <tr>\n",
       "      <th>1</th>\n",
       "      <td>-1.089033</td>\n",
       "      <td>-2.653652</td>\n",
       "      <td>1.824786</td>\n",
       "      <td>-4.444734</td>\n",
       "      <td>0.076666</td>\n",
       "      <td>-2.028076</td>\n",
       "      <td>2.592533</td>\n",
       "      <td>1.273521</td>\n",
       "      <td>-1.953467</td>\n",
       "      <td>0.336785</td>\n",
       "      <td>...</td>\n",
       "      <td>0</td>\n",
       "      <td>0</td>\n",
       "      <td>0</td>\n",
       "      <td>0</td>\n",
       "      <td>0</td>\n",
       "      <td>0</td>\n",
       "      <td>0</td>\n",
       "      <td>0</td>\n",
       "      <td>0</td>\n",
       "      <td>0</td>\n",
       "    </tr>\n",
       "    <tr>\n",
       "      <th>2</th>\n",
       "      <td>-1.089033</td>\n",
       "      <td>-2.653652</td>\n",
       "      <td>1.824786</td>\n",
       "      <td>-4.444734</td>\n",
       "      <td>0.076666</td>\n",
       "      <td>-2.028076</td>\n",
       "      <td>2.592533</td>\n",
       "      <td>1.273521</td>\n",
       "      <td>-1.953467</td>\n",
       "      <td>0.336785</td>\n",
       "      <td>...</td>\n",
       "      <td>0</td>\n",
       "      <td>0</td>\n",
       "      <td>0</td>\n",
       "      <td>0</td>\n",
       "      <td>0</td>\n",
       "      <td>0</td>\n",
       "      <td>0</td>\n",
       "      <td>0</td>\n",
       "      <td>0</td>\n",
       "      <td>0</td>\n",
       "    </tr>\n",
       "  </tbody>\n",
       "</table>\n",
       "<p>3 rows × 492 columns</p>\n",
       "</div>"
      ],
      "text/plain": [
       "          0         1         2         3         4         5         6  \\\n",
       "0 -1.089033 -2.653652  1.824786 -4.444734  0.076666 -2.028076  2.592533   \n",
       "1 -1.089033 -2.653652  1.824786 -4.444734  0.076666 -2.028076  2.592533   \n",
       "2 -1.089033 -2.653652  1.824786 -4.444734  0.076666 -2.028076  2.592533   \n",
       "\n",
       "          7         8         9             ...               \\\n",
       "0  1.273521 -1.953467  0.336785             ...                \n",
       "1  1.273521 -1.953467  0.336785             ...                \n",
       "2  1.273521 -1.953467  0.336785             ...                \n",
       "\n",
       "   CompanyName_WIDEPOINT CORP  CompanyName_WINTRUST FINANCIAL CORP  \\\n",
       "0                           0                                    0   \n",
       "1                           0                                    0   \n",
       "2                           0                                    0   \n",
       "\n",
       "   CompanyName_WMS INDUSTRIES INC  CompanyName_WOODWARD INC  \\\n",
       "0                               0                         0   \n",
       "1                               0                         0   \n",
       "2                               0                         0   \n",
       "\n",
       "   CompanyName_WPCS INTERNATIONAL INC  CompanyName_XCEL ENERGY INC  \\\n",
       "0                                   0                            0   \n",
       "1                                   0                            0   \n",
       "2                                   0                            0   \n",
       "\n",
       "   CompanyName_XCERRA CORP  CompanyName_XPO LOGISTICS INC  \\\n",
       "0                        0                              0   \n",
       "1                        0                              0   \n",
       "2                        0                              0   \n",
       "\n",
       "   CompanyName_YADKIN FINANCIAL CORP  CompanyName_YAMANA GOLD INC  \n",
       "0                                  0                            0  \n",
       "1                                  0                            0  \n",
       "2                                  0                            0  \n",
       "\n",
       "[3 rows x 492 columns]"
      ]
     },
     "execution_count": 14,
     "metadata": {},
     "output_type": "execute_result"
    }
   ],
   "source": [
    "xtrain.head(3)"
   ]
  },
  {
   "cell_type": "code",
   "execution_count": 15,
   "metadata": {},
   "outputs": [
    {
     "data": {
      "text/plain": [
       "0   -0.256809\n",
       "1   -0.033473\n",
       "2   -0.214262\n",
       "Name: LogDiff, dtype: float64"
      ]
     },
     "execution_count": 15,
     "metadata": {},
     "output_type": "execute_result"
    }
   ],
   "source": [
    "ytrain.head(3)"
   ]
  },
  {
   "cell_type": "code",
   "execution_count": 16,
   "metadata": {},
   "outputs": [
    {
     "data": {
      "text/plain": [
       "0   -0.316670\n",
       "1   -0.340422\n",
       "2   -0.033813\n",
       "Name: LogDiff, dtype: float64"
      ]
     },
     "execution_count": 16,
     "metadata": {},
     "output_type": "execute_result"
    }
   ],
   "source": [
    "ytest.head(3)"
   ]
  },
  {
   "cell_type": "code",
   "execution_count": 17,
   "metadata": {},
   "outputs": [
    {
     "data": {
      "text/html": [
       "<div>\n",
       "<style>\n",
       "    .dataframe thead tr:only-child th {\n",
       "        text-align: right;\n",
       "    }\n",
       "\n",
       "    .dataframe thead th {\n",
       "        text-align: left;\n",
       "    }\n",
       "\n",
       "    .dataframe tbody tr th {\n",
       "        vertical-align: top;\n",
       "    }\n",
       "</style>\n",
       "<table border=\"1\" class=\"dataframe\">\n",
       "  <thead>\n",
       "    <tr style=\"text-align: right;\">\n",
       "      <th></th>\n",
       "      <th>0</th>\n",
       "      <th>1</th>\n",
       "      <th>2</th>\n",
       "      <th>3</th>\n",
       "      <th>4</th>\n",
       "      <th>5</th>\n",
       "      <th>6</th>\n",
       "      <th>7</th>\n",
       "      <th>8</th>\n",
       "      <th>9</th>\n",
       "      <th>...</th>\n",
       "      <th>CompanyName_WIDEPOINT CORP</th>\n",
       "      <th>CompanyName_WINTRUST FINANCIAL CORP</th>\n",
       "      <th>CompanyName_WMS INDUSTRIES INC</th>\n",
       "      <th>CompanyName_WOODWARD INC</th>\n",
       "      <th>CompanyName_WPCS INTERNATIONAL INC</th>\n",
       "      <th>CompanyName_XCEL ENERGY INC</th>\n",
       "      <th>CompanyName_XCERRA CORP</th>\n",
       "      <th>CompanyName_XPO LOGISTICS INC</th>\n",
       "      <th>CompanyName_YADKIN FINANCIAL CORP</th>\n",
       "      <th>CompanyName_YAMANA GOLD INC</th>\n",
       "    </tr>\n",
       "  </thead>\n",
       "  <tbody>\n",
       "    <tr>\n",
       "      <th>0</th>\n",
       "      <td>-5.355756</td>\n",
       "      <td>-4.489954</td>\n",
       "      <td>-1.216706</td>\n",
       "      <td>-0.793479</td>\n",
       "      <td>3.504418</td>\n",
       "      <td>-1.319556</td>\n",
       "      <td>1.916924</td>\n",
       "      <td>2.390682</td>\n",
       "      <td>-3.472963</td>\n",
       "      <td>-1.067831</td>\n",
       "      <td>...</td>\n",
       "      <td>0</td>\n",
       "      <td>0</td>\n",
       "      <td>0</td>\n",
       "      <td>0</td>\n",
       "      <td>0</td>\n",
       "      <td>0</td>\n",
       "      <td>0</td>\n",
       "      <td>0</td>\n",
       "      <td>0</td>\n",
       "      <td>0</td>\n",
       "    </tr>\n",
       "    <tr>\n",
       "      <th>1</th>\n",
       "      <td>-5.355756</td>\n",
       "      <td>-4.489954</td>\n",
       "      <td>-1.216706</td>\n",
       "      <td>-0.793479</td>\n",
       "      <td>3.504418</td>\n",
       "      <td>-1.319556</td>\n",
       "      <td>1.916924</td>\n",
       "      <td>2.390682</td>\n",
       "      <td>-3.472963</td>\n",
       "      <td>-1.067831</td>\n",
       "      <td>...</td>\n",
       "      <td>0</td>\n",
       "      <td>0</td>\n",
       "      <td>0</td>\n",
       "      <td>0</td>\n",
       "      <td>0</td>\n",
       "      <td>0</td>\n",
       "      <td>0</td>\n",
       "      <td>0</td>\n",
       "      <td>0</td>\n",
       "      <td>0</td>\n",
       "    </tr>\n",
       "    <tr>\n",
       "      <th>2</th>\n",
       "      <td>-5.355756</td>\n",
       "      <td>-4.489954</td>\n",
       "      <td>-1.216706</td>\n",
       "      <td>-0.793479</td>\n",
       "      <td>3.504418</td>\n",
       "      <td>-1.319556</td>\n",
       "      <td>1.916924</td>\n",
       "      <td>2.390682</td>\n",
       "      <td>-3.472963</td>\n",
       "      <td>-1.067831</td>\n",
       "      <td>...</td>\n",
       "      <td>0</td>\n",
       "      <td>0</td>\n",
       "      <td>0</td>\n",
       "      <td>0</td>\n",
       "      <td>0</td>\n",
       "      <td>0</td>\n",
       "      <td>0</td>\n",
       "      <td>0</td>\n",
       "      <td>0</td>\n",
       "      <td>0</td>\n",
       "    </tr>\n",
       "  </tbody>\n",
       "</table>\n",
       "<p>3 rows × 492 columns</p>\n",
       "</div>"
      ],
      "text/plain": [
       "          0         1         2         3         4         5         6  \\\n",
       "0 -5.355756 -4.489954 -1.216706 -0.793479  3.504418 -1.319556  1.916924   \n",
       "1 -5.355756 -4.489954 -1.216706 -0.793479  3.504418 -1.319556  1.916924   \n",
       "2 -5.355756 -4.489954 -1.216706 -0.793479  3.504418 -1.319556  1.916924   \n",
       "\n",
       "          7         8         9             ...               \\\n",
       "0  2.390682 -3.472963 -1.067831             ...                \n",
       "1  2.390682 -3.472963 -1.067831             ...                \n",
       "2  2.390682 -3.472963 -1.067831             ...                \n",
       "\n",
       "   CompanyName_WIDEPOINT CORP  CompanyName_WINTRUST FINANCIAL CORP  \\\n",
       "0                           0                                    0   \n",
       "1                           0                                    0   \n",
       "2                           0                                    0   \n",
       "\n",
       "   CompanyName_WMS INDUSTRIES INC  CompanyName_WOODWARD INC  \\\n",
       "0                               0                         0   \n",
       "1                               0                         0   \n",
       "2                               0                         0   \n",
       "\n",
       "   CompanyName_WPCS INTERNATIONAL INC  CompanyName_XCEL ENERGY INC  \\\n",
       "0                                   0                            0   \n",
       "1                                   0                            0   \n",
       "2                                   0                            0   \n",
       "\n",
       "   CompanyName_XCERRA CORP  CompanyName_XPO LOGISTICS INC  \\\n",
       "0                        0                              0   \n",
       "1                        0                              0   \n",
       "2                        0                              0   \n",
       "\n",
       "   CompanyName_YADKIN FINANCIAL CORP  CompanyName_YAMANA GOLD INC  \n",
       "0                                  0                            0  \n",
       "1                                  0                            0  \n",
       "2                                  0                            0  \n",
       "\n",
       "[3 rows x 492 columns]"
      ]
     },
     "execution_count": 17,
     "metadata": {},
     "output_type": "execute_result"
    }
   ],
   "source": [
    "xtest.head(3)"
   ]
  },
  {
   "cell_type": "code",
   "execution_count": 18,
   "metadata": {},
   "outputs": [
    {
     "data": {
      "text/html": [
       "<div>\n",
       "<style>\n",
       "    .dataframe thead tr:only-child th {\n",
       "        text-align: right;\n",
       "    }\n",
       "\n",
       "    .dataframe thead th {\n",
       "        text-align: left;\n",
       "    }\n",
       "\n",
       "    .dataframe tbody tr th {\n",
       "        vertical-align: top;\n",
       "    }\n",
       "</style>\n",
       "<table border=\"1\" class=\"dataframe\">\n",
       "  <thead>\n",
       "    <tr style=\"text-align: right;\">\n",
       "      <th></th>\n",
       "      <th>0</th>\n",
       "      <th>1</th>\n",
       "      <th>2</th>\n",
       "      <th>3</th>\n",
       "      <th>4</th>\n",
       "      <th>5</th>\n",
       "      <th>6</th>\n",
       "      <th>7</th>\n",
       "      <th>8</th>\n",
       "      <th>9</th>\n",
       "      <th>...</th>\n",
       "      <th>CompanyName_WIDEPOINT CORP</th>\n",
       "      <th>CompanyName_WINTRUST FINANCIAL CORP</th>\n",
       "      <th>CompanyName_WMS INDUSTRIES INC</th>\n",
       "      <th>CompanyName_WOODWARD INC</th>\n",
       "      <th>CompanyName_WPCS INTERNATIONAL INC</th>\n",
       "      <th>CompanyName_XCEL ENERGY INC</th>\n",
       "      <th>CompanyName_XCERRA CORP</th>\n",
       "      <th>CompanyName_XPO LOGISTICS INC</th>\n",
       "      <th>CompanyName_YADKIN FINANCIAL CORP</th>\n",
       "      <th>CompanyName_YAMANA GOLD INC</th>\n",
       "    </tr>\n",
       "  </thead>\n",
       "  <tbody>\n",
       "    <tr>\n",
       "      <th>0</th>\n",
       "      <td>-0.62676</td>\n",
       "      <td>-6.116092</td>\n",
       "      <td>-0.269485</td>\n",
       "      <td>-5.111804</td>\n",
       "      <td>-2.906082</td>\n",
       "      <td>0.131607</td>\n",
       "      <td>-7.342483</td>\n",
       "      <td>4.433392</td>\n",
       "      <td>-2.143173</td>\n",
       "      <td>-1.813515</td>\n",
       "      <td>...</td>\n",
       "      <td>0</td>\n",
       "      <td>0</td>\n",
       "      <td>0</td>\n",
       "      <td>0</td>\n",
       "      <td>0</td>\n",
       "      <td>0</td>\n",
       "      <td>0</td>\n",
       "      <td>0</td>\n",
       "      <td>0</td>\n",
       "      <td>0</td>\n",
       "    </tr>\n",
       "    <tr>\n",
       "      <th>1</th>\n",
       "      <td>-0.62676</td>\n",
       "      <td>-6.116092</td>\n",
       "      <td>-0.269485</td>\n",
       "      <td>-5.111804</td>\n",
       "      <td>-2.906082</td>\n",
       "      <td>0.131607</td>\n",
       "      <td>-7.342483</td>\n",
       "      <td>4.433392</td>\n",
       "      <td>-2.143173</td>\n",
       "      <td>-1.813515</td>\n",
       "      <td>...</td>\n",
       "      <td>0</td>\n",
       "      <td>0</td>\n",
       "      <td>0</td>\n",
       "      <td>0</td>\n",
       "      <td>0</td>\n",
       "      <td>0</td>\n",
       "      <td>0</td>\n",
       "      <td>0</td>\n",
       "      <td>0</td>\n",
       "      <td>0</td>\n",
       "    </tr>\n",
       "    <tr>\n",
       "      <th>2</th>\n",
       "      <td>-0.62676</td>\n",
       "      <td>-6.116092</td>\n",
       "      <td>-0.269485</td>\n",
       "      <td>-5.111804</td>\n",
       "      <td>-2.906082</td>\n",
       "      <td>0.131607</td>\n",
       "      <td>-7.342483</td>\n",
       "      <td>4.433392</td>\n",
       "      <td>-2.143173</td>\n",
       "      <td>-1.813515</td>\n",
       "      <td>...</td>\n",
       "      <td>0</td>\n",
       "      <td>0</td>\n",
       "      <td>0</td>\n",
       "      <td>0</td>\n",
       "      <td>0</td>\n",
       "      <td>0</td>\n",
       "      <td>0</td>\n",
       "      <td>0</td>\n",
       "      <td>0</td>\n",
       "      <td>0</td>\n",
       "    </tr>\n",
       "  </tbody>\n",
       "</table>\n",
       "<p>3 rows × 492 columns</p>\n",
       "</div>"
      ],
      "text/plain": [
       "         0         1         2         3         4         5         6  \\\n",
       "0 -0.62676 -6.116092 -0.269485 -5.111804 -2.906082  0.131607 -7.342483   \n",
       "1 -0.62676 -6.116092 -0.269485 -5.111804 -2.906082  0.131607 -7.342483   \n",
       "2 -0.62676 -6.116092 -0.269485 -5.111804 -2.906082  0.131607 -7.342483   \n",
       "\n",
       "          7         8         9             ...               \\\n",
       "0  4.433392 -2.143173 -1.813515             ...                \n",
       "1  4.433392 -2.143173 -1.813515             ...                \n",
       "2  4.433392 -2.143173 -1.813515             ...                \n",
       "\n",
       "   CompanyName_WIDEPOINT CORP  CompanyName_WINTRUST FINANCIAL CORP  \\\n",
       "0                           0                                    0   \n",
       "1                           0                                    0   \n",
       "2                           0                                    0   \n",
       "\n",
       "   CompanyName_WMS INDUSTRIES INC  CompanyName_WOODWARD INC  \\\n",
       "0                               0                         0   \n",
       "1                               0                         0   \n",
       "2                               0                         0   \n",
       "\n",
       "   CompanyName_WPCS INTERNATIONAL INC  CompanyName_XCEL ENERGY INC  \\\n",
       "0                                   0                            0   \n",
       "1                                   0                            0   \n",
       "2                                   0                            0   \n",
       "\n",
       "   CompanyName_XCERRA CORP  CompanyName_XPO LOGISTICS INC  \\\n",
       "0                        0                              0   \n",
       "1                        0                              0   \n",
       "2                        0                              0   \n",
       "\n",
       "   CompanyName_YADKIN FINANCIAL CORP  CompanyName_YAMANA GOLD INC  \n",
       "0                                  0                            0  \n",
       "1                                  0                            0  \n",
       "2                                  0                            0  \n",
       "\n",
       "[3 rows x 492 columns]"
      ]
     },
     "execution_count": 18,
     "metadata": {},
     "output_type": "execute_result"
    }
   ],
   "source": [
    "xval.head(3)"
   ]
  },
  {
   "cell_type": "code",
   "execution_count": 19,
   "metadata": {},
   "outputs": [
    {
     "data": {
      "text/plain": [
       "0   -0.263395\n",
       "1    0.029042\n",
       "2   -0.056035\n",
       "Name: LogDiff, dtype: float64"
      ]
     },
     "execution_count": 19,
     "metadata": {},
     "output_type": "execute_result"
    }
   ],
   "source": [
    "yval.head(3)"
   ]
  },
  {
   "cell_type": "code",
   "execution_count": 20,
   "metadata": {},
   "outputs": [
    {
     "name": "stdout",
     "output_type": "stream",
     "text": [
      "815459 815459\n",
      "126967 126967\n",
      "340881 340881\n"
     ]
    }
   ],
   "source": [
    "print(len(ytrain),len(xtrain))\n",
    "print(len(ytest),len(xtest))\n",
    "print(len(yval),len(xval))"
   ]
  },
  {
   "cell_type": "code",
   "execution_count": 21,
   "metadata": {
    "collapsed": true
   },
   "outputs": [],
   "source": [
    "ytrain.to_pickle(\"/data/WorkData/firmEmbeddings/Models/StockPredictionUsingNeuralNetwork/Data_stock_all/ytrain_stock.pkl\")\n",
    "xtrain.to_pickle(\"/data/WorkData/firmEmbeddings/Models/StockPredictionUsingNeuralNetwork/Data_stock_all/xtrain_stock.pkl\")"
   ]
  },
  {
   "cell_type": "code",
   "execution_count": 22,
   "metadata": {
    "collapsed": true
   },
   "outputs": [],
   "source": [
    "ytest.to_pickle(\"/data/WorkData/firmEmbeddings/Models/StockPredictionUsingNeuralNetwork/Data_stock_all/ytest_stock.pkl\")\n",
    "xtest.to_pickle(\"/data/WorkData/firmEmbeddings/Models/StockPredictionUsingNeuralNetwork/Data_stock_all/xtest_stock.pkl\")"
   ]
  },
  {
   "cell_type": "code",
   "execution_count": 23,
   "metadata": {
    "collapsed": true
   },
   "outputs": [],
   "source": [
    "yval.to_pickle(\"/data/WorkData/firmEmbeddings/Models/StockPredictionUsingNeuralNetwork/Data_stock_all/yval_stock.pkl\")\n",
    "xval.to_pickle(\"/data/WorkData/firmEmbeddings/Models/StockPredictionUsingNeuralNetwork/Data_stock_all/xval_stock.pkl\")"
   ]
  },
  {
   "cell_type": "markdown",
   "metadata": {},
   "source": [
    "# Create similar X and Y for category 6 and 7 "
   ]
  },
  {
   "cell_type": "code",
   "execution_count": 24,
   "metadata": {
    "collapsed": true
   },
   "outputs": [],
   "source": [
    "val6=val6.drop(['CaseId', 'Date', 'Year', 'Month','ClosingPrice','Category','Sub-Category','City','State','NAICS'], axis=1)\n",
    "\n",
    "test6=test6.drop(['CaseId', 'Date', 'Year', 'Month','ClosingPrice','Category','Sub-Category', 'City','State','NAICS'], axis=1)\n",
    "\n",
    "train6=train6.drop(['CaseId', 'Date', 'Year', 'Month','ClosingPrice','Category','Sub-Category', 'City','State','NAICS'], axis=1)\n",
    "\n",
    "val7=val7.drop(['CaseId', 'Date', 'Year', 'Month','ClosingPrice','Category','Sub-Category','City','State','NAICS'], axis=1)\n",
    "\n",
    "test7=test7.drop(['CaseId', 'Date', 'Year', 'Month','ClosingPrice','Category','Sub-Category', 'City','State','NAICS'], axis=1)\n",
    "\n",
    "train7=train7.drop(['CaseId', 'Date', 'Year', 'Month','ClosingPrice','Category','Sub-Category', 'City','State','NAICS'], axis=1)\n",
    "\n",
    "\n",
    "\n"
   ]
  },
  {
   "cell_type": "code",
   "execution_count": 25,
   "metadata": {
    "collapsed": true
   },
   "outputs": [],
   "source": [
    "\n",
    "train7=train7.reset_index()\n",
    "\n",
    "\n",
    "test7=test7.reset_index()\n",
    "\n",
    "\n",
    "val7=val7.reset_index()\n",
    "\n",
    "\n",
    "ytest7=test7['LogDiff']\n",
    "xtest7=test7.drop(['LogDiff','index'],axis=1)\n",
    "\n",
    "yval7=val7['LogDiff']\n",
    "xval7=val7.drop(['LogDiff','index'],axis=1)\n",
    "\n",
    "ytrain7=train7['LogDiff']\n",
    "xtrain7=train7.drop(['LogDiff','index'],axis=1)"
   ]
  },
  {
   "cell_type": "code",
   "execution_count": 26,
   "metadata": {},
   "outputs": [
    {
     "name": "stdout",
     "output_type": "stream",
     "text": [
      "687289 687289\n",
      "107977 107977\n",
      "288002 288002\n"
     ]
    }
   ],
   "source": [
    "print(len(ytrain7),len(xtrain7))\n",
    "print(len(ytest7),len(xtest7))\n",
    "print(len(yval7),len(xval7))"
   ]
  },
  {
   "cell_type": "code",
   "execution_count": 27,
   "metadata": {},
   "outputs": [
    {
     "data": {
      "text/plain": [
       "0   -0.256809\n",
       "Name: LogDiff, dtype: float64"
      ]
     },
     "execution_count": 27,
     "metadata": {},
     "output_type": "execute_result"
    }
   ],
   "source": [
    "ytrain7.head(1)"
   ]
  },
  {
   "cell_type": "code",
   "execution_count": 28,
   "metadata": {
    "collapsed": true
   },
   "outputs": [],
   "source": [
    "ytrain7.to_pickle(\"/data/WorkData/firmEmbeddings/Models/StockPredictionUsingNeuralNetwork/Data_stock_7/ytrain_stock7.pkl\")\n",
    "xtrain7.to_pickle(\"/data/WorkData/firmEmbeddings/Models/StockPredictionUsingNeuralNetwork/Data_stock_7/xtrain_stock7.pkl\")\n",
    "\n",
    "ytest7.to_pickle(\"/data/WorkData/firmEmbeddings/Models/StockPredictionUsingNeuralNetwork/Data_stock_7/ytest_stock7.pkl\")\n",
    "xtest7.to_pickle(\"/data/WorkData/firmEmbeddings/Models/StockPredictionUsingNeuralNetwork/Data_stock_7/xtest_stock7.pkl\")\n",
    "\n",
    "yval7.to_pickle(\"/data/WorkData/firmEmbeddings/Models/StockPredictionUsingNeuralNetwork/Data_stock_7/yval_stock7.pkl\")\n",
    "xval7.to_pickle(\"/data/WorkData/firmEmbeddings/Models/StockPredictionUsingNeuralNetwork/Data_stock_7/xval_stock7.pkl\")"
   ]
  },
  {
   "cell_type": "code",
   "execution_count": 29,
   "metadata": {},
   "outputs": [
    {
     "name": "stdout",
     "output_type": "stream",
     "text": [
      "128170 128170\n",
      "18990 18990\n",
      "52879 52879\n"
     ]
    }
   ],
   "source": [
    "\n",
    "train6=train6.reset_index()\n",
    "\n",
    "\n",
    "test6=test6.reset_index()\n",
    "\n",
    "\n",
    "val6=val6.reset_index()\n",
    "\n",
    "\n",
    "\n",
    "ytest6=test6['LogDiff']\n",
    "xtest6=test6.drop(['LogDiff','index'],axis=1)\n",
    "\n",
    "yval6=val6['LogDiff']\n",
    "xval6=val6.drop(['LogDiff','index'],axis=1)\n",
    "\n",
    "ytrain6=train6['LogDiff']\n",
    "xtrain6=train6.drop(['LogDiff','index'],axis=1)\n",
    "\n",
    "print(len(ytrain6),len(xtrain6))\n",
    "print(len(ytest6),len(xtest6))\n",
    "print(len(yval6),len(xval6))\n",
    "\n",
    "\n",
    "\n",
    "ytrain6.to_pickle(\"/data/WorkData/firmEmbeddings/Models/StockPredictionUsingNeuralNetwork/Data_stock_6/ytrain_stock6.pkl\")\n",
    "xtrain6.to_pickle(\"/data/WorkData/firmEmbeddings/Models/StockPredictionUsingNeuralNetwork/Data_stock_6/xtrain_stock6.pkl\")\n",
    "\n",
    "ytest6.to_pickle(\"/data/WorkData/firmEmbeddings/Models/StockPredictionUsingNeuralNetwork/Data_stock_6/ytest_stock6.pkl\")\n",
    "xtest6.to_pickle(\"/data/WorkData/firmEmbeddings/Models/StockPredictionUsingNeuralNetwork/Data_stock_6/xtest_stock6.pkl\")\n",
    "\n",
    "yval6.to_pickle(\"/data/WorkData/firmEmbeddings/Models/StockPredictionUsingNeuralNetwork/Data_stock_6/yval_stock6.pkl\")\n",
    "xval6.to_pickle(\"/data/WorkData/firmEmbeddings/Models/StockPredictionUsingNeuralNetwork/Data_stock_6/xval_stock6.pkl\")"
   ]
  },
  {
   "cell_type": "code",
   "execution_count": 30,
   "metadata": {},
   "outputs": [
    {
     "data": {
      "text/html": [
       "<div>\n",
       "<style>\n",
       "    .dataframe thead tr:only-child th {\n",
       "        text-align: right;\n",
       "    }\n",
       "\n",
       "    .dataframe thead th {\n",
       "        text-align: left;\n",
       "    }\n",
       "\n",
       "    .dataframe tbody tr th {\n",
       "        vertical-align: top;\n",
       "    }\n",
       "</style>\n",
       "<table border=\"1\" class=\"dataframe\">\n",
       "  <thead>\n",
       "    <tr style=\"text-align: right;\">\n",
       "      <th></th>\n",
       "      <th>0</th>\n",
       "      <th>1</th>\n",
       "      <th>2</th>\n",
       "      <th>3</th>\n",
       "      <th>4</th>\n",
       "      <th>5</th>\n",
       "      <th>6</th>\n",
       "      <th>7</th>\n",
       "      <th>8</th>\n",
       "      <th>9</th>\n",
       "      <th>...</th>\n",
       "      <th>CompanyName_WIDEPOINT CORP</th>\n",
       "      <th>CompanyName_WINTRUST FINANCIAL CORP</th>\n",
       "      <th>CompanyName_WMS INDUSTRIES INC</th>\n",
       "      <th>CompanyName_WOODWARD INC</th>\n",
       "      <th>CompanyName_WPCS INTERNATIONAL INC</th>\n",
       "      <th>CompanyName_XCEL ENERGY INC</th>\n",
       "      <th>CompanyName_XCERRA CORP</th>\n",
       "      <th>CompanyName_XPO LOGISTICS INC</th>\n",
       "      <th>CompanyName_YADKIN FINANCIAL CORP</th>\n",
       "      <th>CompanyName_YAMANA GOLD INC</th>\n",
       "    </tr>\n",
       "  </thead>\n",
       "  <tbody>\n",
       "    <tr>\n",
       "      <th>0</th>\n",
       "      <td>-3.775103</td>\n",
       "      <td>3.115883</td>\n",
       "      <td>0.316088</td>\n",
       "      <td>-1.804894</td>\n",
       "      <td>-0.221209</td>\n",
       "      <td>1.039743</td>\n",
       "      <td>-4.794109</td>\n",
       "      <td>3.835644</td>\n",
       "      <td>-0.006728</td>\n",
       "      <td>-3.664129</td>\n",
       "      <td>...</td>\n",
       "      <td>0</td>\n",
       "      <td>0</td>\n",
       "      <td>0</td>\n",
       "      <td>0</td>\n",
       "      <td>0</td>\n",
       "      <td>0</td>\n",
       "      <td>0</td>\n",
       "      <td>0</td>\n",
       "      <td>0</td>\n",
       "      <td>0</td>\n",
       "    </tr>\n",
       "  </tbody>\n",
       "</table>\n",
       "<p>1 rows × 492 columns</p>\n",
       "</div>"
      ],
      "text/plain": [
       "          0         1         2         3         4         5         6  \\\n",
       "0 -3.775103  3.115883  0.316088 -1.804894 -0.221209  1.039743 -4.794109   \n",
       "\n",
       "          7         8         9             ...               \\\n",
       "0  3.835644 -0.006728 -3.664129             ...                \n",
       "\n",
       "   CompanyName_WIDEPOINT CORP  CompanyName_WINTRUST FINANCIAL CORP  \\\n",
       "0                           0                                    0   \n",
       "\n",
       "   CompanyName_WMS INDUSTRIES INC  CompanyName_WOODWARD INC  \\\n",
       "0                               0                         0   \n",
       "\n",
       "   CompanyName_WPCS INTERNATIONAL INC  CompanyName_XCEL ENERGY INC  \\\n",
       "0                                   0                            0   \n",
       "\n",
       "   CompanyName_XCERRA CORP  CompanyName_XPO LOGISTICS INC  \\\n",
       "0                        0                              0   \n",
       "\n",
       "   CompanyName_YADKIN FINANCIAL CORP  CompanyName_YAMANA GOLD INC  \n",
       "0                                  0                            0  \n",
       "\n",
       "[1 rows x 492 columns]"
      ]
     },
     "execution_count": 30,
     "metadata": {},
     "output_type": "execute_result"
    }
   ],
   "source": [
    "xval6.head(1)"
   ]
  },
  {
   "cell_type": "code",
   "execution_count": 31,
   "metadata": {},
   "outputs": [
    {
     "data": {
      "text/html": [
       "<div>\n",
       "<style>\n",
       "    .dataframe thead tr:only-child th {\n",
       "        text-align: right;\n",
       "    }\n",
       "\n",
       "    .dataframe thead th {\n",
       "        text-align: left;\n",
       "    }\n",
       "\n",
       "    .dataframe tbody tr th {\n",
       "        vertical-align: top;\n",
       "    }\n",
       "</style>\n",
       "<table border=\"1\" class=\"dataframe\">\n",
       "  <thead>\n",
       "    <tr style=\"text-align: right;\">\n",
       "      <th></th>\n",
       "      <th>0</th>\n",
       "      <th>1</th>\n",
       "      <th>2</th>\n",
       "      <th>3</th>\n",
       "      <th>4</th>\n",
       "      <th>5</th>\n",
       "      <th>6</th>\n",
       "      <th>7</th>\n",
       "      <th>8</th>\n",
       "      <th>9</th>\n",
       "      <th>...</th>\n",
       "      <th>CompanyName_WIDEPOINT CORP</th>\n",
       "      <th>CompanyName_WINTRUST FINANCIAL CORP</th>\n",
       "      <th>CompanyName_WMS INDUSTRIES INC</th>\n",
       "      <th>CompanyName_WOODWARD INC</th>\n",
       "      <th>CompanyName_WPCS INTERNATIONAL INC</th>\n",
       "      <th>CompanyName_XCEL ENERGY INC</th>\n",
       "      <th>CompanyName_XCERRA CORP</th>\n",
       "      <th>CompanyName_XPO LOGISTICS INC</th>\n",
       "      <th>CompanyName_YADKIN FINANCIAL CORP</th>\n",
       "      <th>CompanyName_YAMANA GOLD INC</th>\n",
       "    </tr>\n",
       "  </thead>\n",
       "  <tbody>\n",
       "    <tr>\n",
       "      <th>0</th>\n",
       "      <td>-0.62676</td>\n",
       "      <td>-6.116092</td>\n",
       "      <td>-0.269485</td>\n",
       "      <td>-5.111804</td>\n",
       "      <td>-2.906082</td>\n",
       "      <td>0.131607</td>\n",
       "      <td>-7.342483</td>\n",
       "      <td>4.433392</td>\n",
       "      <td>-2.143173</td>\n",
       "      <td>-1.813515</td>\n",
       "      <td>...</td>\n",
       "      <td>0</td>\n",
       "      <td>0</td>\n",
       "      <td>0</td>\n",
       "      <td>0</td>\n",
       "      <td>0</td>\n",
       "      <td>0</td>\n",
       "      <td>0</td>\n",
       "      <td>0</td>\n",
       "      <td>0</td>\n",
       "      <td>0</td>\n",
       "    </tr>\n",
       "  </tbody>\n",
       "</table>\n",
       "<p>1 rows × 492 columns</p>\n",
       "</div>"
      ],
      "text/plain": [
       "         0         1         2         3         4         5         6  \\\n",
       "0 -0.62676 -6.116092 -0.269485 -5.111804 -2.906082  0.131607 -7.342483   \n",
       "\n",
       "          7         8         9             ...               \\\n",
       "0  4.433392 -2.143173 -1.813515             ...                \n",
       "\n",
       "   CompanyName_WIDEPOINT CORP  CompanyName_WINTRUST FINANCIAL CORP  \\\n",
       "0                           0                                    0   \n",
       "\n",
       "   CompanyName_WMS INDUSTRIES INC  CompanyName_WOODWARD INC  \\\n",
       "0                               0                         0   \n",
       "\n",
       "   CompanyName_WPCS INTERNATIONAL INC  CompanyName_XCEL ENERGY INC  \\\n",
       "0                                   0                            0   \n",
       "\n",
       "   CompanyName_XCERRA CORP  CompanyName_XPO LOGISTICS INC  \\\n",
       "0                        0                              0   \n",
       "\n",
       "   CompanyName_YADKIN FINANCIAL CORP  CompanyName_YAMANA GOLD INC  \n",
       "0                                  0                            0  \n",
       "\n",
       "[1 rows x 492 columns]"
      ]
     },
     "execution_count": 31,
     "metadata": {},
     "output_type": "execute_result"
    }
   ],
   "source": [
    "xval7.head(1)"
   ]
  },
  {
   "cell_type": "code",
   "execution_count": null,
   "metadata": {
    "collapsed": true
   },
   "outputs": [],
   "source": []
  }
 ],
 "metadata": {
  "kernelspec": {
   "display_name": "Python 3",
   "language": "python",
   "name": "python3"
  },
  "language_info": {
   "codemirror_mode": {
    "name": "ipython",
    "version": 3
   },
   "file_extension": ".py",
   "mimetype": "text/x-python",
   "name": "python",
   "nbconvert_exporter": "python",
   "pygments_lexer": "ipython3",
   "version": "3.6.3"
  }
 },
 "nbformat": 4,
 "nbformat_minor": 2
}
