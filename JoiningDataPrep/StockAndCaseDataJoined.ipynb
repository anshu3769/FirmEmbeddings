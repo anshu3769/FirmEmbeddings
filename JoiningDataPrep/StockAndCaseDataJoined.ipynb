{
 "cells": [
  {
   "cell_type": "code",
   "execution_count": 21,
   "metadata": {
    "collapsed": true
   },
   "outputs": [],
   "source": [
    "import pandas as pd\n",
    "import numpy as np\n",
    "from sklearn.utils import shuffle\n",
    "from sklearn.model_selection import train_test_split\n",
    "import pickle\n",
    "import matplotlib.pyplot as plt"
   ]
  },
  {
   "cell_type": "markdown",
   "metadata": {},
   "source": [
    "# Read Stock Data"
   ]
  },
  {
   "cell_type": "code",
   "execution_count": 22,
   "metadata": {},
   "outputs": [
    {
     "name": "stdout",
     "output_type": "stream",
     "text": [
      "1241788\n"
     ]
    },
    {
     "data": {
      "text/html": [
       "<div>\n",
       "<style>\n",
       "    .dataframe thead tr:only-child th {\n",
       "        text-align: right;\n",
       "    }\n",
       "\n",
       "    .dataframe thead th {\n",
       "        text-align: left;\n",
       "    }\n",
       "\n",
       "    .dataframe tbody tr th {\n",
       "        vertical-align: top;\n",
       "    }\n",
       "</style>\n",
       "<table border=\"1\" class=\"dataframe\">\n",
       "  <thead>\n",
       "    <tr style=\"text-align: right;\">\n",
       "      <th></th>\n",
       "      <th>Date</th>\n",
       "      <th>CompanyName</th>\n",
       "      <th>ClosingPrice</th>\n",
       "      <th>City</th>\n",
       "      <th>State</th>\n",
       "      <th>NAICS</th>\n",
       "      <th>LogDiff</th>\n",
       "    </tr>\n",
       "  </thead>\n",
       "  <tbody>\n",
       "    <tr>\n",
       "      <th>0</th>\n",
       "      <td>24/06/2008</td>\n",
       "      <td>AAR CORP</td>\n",
       "      <td>14.76</td>\n",
       "      <td>Wood Dale</td>\n",
       "      <td>IL</td>\n",
       "      <td>423860.0</td>\n",
       "      <td>-0.270565</td>\n",
       "    </tr>\n",
       "    <tr>\n",
       "      <th>1</th>\n",
       "      <td>14/03/2012</td>\n",
       "      <td>AAR CORP</td>\n",
       "      <td>22.00</td>\n",
       "      <td>Wood Dale</td>\n",
       "      <td>IL</td>\n",
       "      <td>423860.0</td>\n",
       "      <td>0.021011</td>\n",
       "    </tr>\n",
       "    <tr>\n",
       "      <th>2</th>\n",
       "      <td>13/06/2011</td>\n",
       "      <td>AAR CORP</td>\n",
       "      <td>25.10</td>\n",
       "      <td>Wood Dale</td>\n",
       "      <td>IL</td>\n",
       "      <td>423860.0</td>\n",
       "      <td>-0.551843</td>\n",
       "    </tr>\n",
       "    <tr>\n",
       "      <th>3</th>\n",
       "      <td>24/09/2007</td>\n",
       "      <td>AAR CORP</td>\n",
       "      <td>29.67</td>\n",
       "      <td>Wood Dale</td>\n",
       "      <td>IL</td>\n",
       "      <td>423860.0</td>\n",
       "      <td>-0.381545</td>\n",
       "    </tr>\n",
       "    <tr>\n",
       "      <th>4</th>\n",
       "      <td>05/09/2013</td>\n",
       "      <td>AAR CORP</td>\n",
       "      <td>25.63</td>\n",
       "      <td>Wood Dale</td>\n",
       "      <td>IL</td>\n",
       "      <td>423860.0</td>\n",
       "      <td>0.209296</td>\n",
       "    </tr>\n",
       "    <tr>\n",
       "      <th>5</th>\n",
       "      <td>23/10/2007</td>\n",
       "      <td>AAR CORP</td>\n",
       "      <td>32.22</td>\n",
       "      <td>Wood Dale</td>\n",
       "      <td>IL</td>\n",
       "      <td>423860.0</td>\n",
       "      <td>0.494777</td>\n",
       "    </tr>\n",
       "    <tr>\n",
       "      <th>6</th>\n",
       "      <td>16/11/2009</td>\n",
       "      <td>AAR CORP</td>\n",
       "      <td>20.36</td>\n",
       "      <td>Wood Dale</td>\n",
       "      <td>IL</td>\n",
       "      <td>423860.0</td>\n",
       "      <td>0.120958</td>\n",
       "    </tr>\n",
       "    <tr>\n",
       "      <th>7</th>\n",
       "      <td>28/12/2012</td>\n",
       "      <td>AAR CORP</td>\n",
       "      <td>18.09</td>\n",
       "      <td>Wood Dale</td>\n",
       "      <td>IL</td>\n",
       "      <td>423860.0</td>\n",
       "      <td>0.318570</td>\n",
       "    </tr>\n",
       "    <tr>\n",
       "      <th>8</th>\n",
       "      <td>16/02/2012</td>\n",
       "      <td>AAR CORP</td>\n",
       "      <td>22.71</td>\n",
       "      <td>Wood Dale</td>\n",
       "      <td>IL</td>\n",
       "      <td>423860.0</td>\n",
       "      <td>-0.455907</td>\n",
       "    </tr>\n",
       "    <tr>\n",
       "      <th>9</th>\n",
       "      <td>10/05/2010</td>\n",
       "      <td>AAR CORP</td>\n",
       "      <td>23.43</td>\n",
       "      <td>Wood Dale</td>\n",
       "      <td>IL</td>\n",
       "      <td>423860.0</td>\n",
       "      <td>0.019537</td>\n",
       "    </tr>\n",
       "  </tbody>\n",
       "</table>\n",
       "</div>"
      ],
      "text/plain": [
       "         Date CompanyName  ClosingPrice       City State     NAICS   LogDiff\n",
       "0  24/06/2008    AAR CORP         14.76  Wood Dale    IL  423860.0 -0.270565\n",
       "1  14/03/2012    AAR CORP         22.00  Wood Dale    IL  423860.0  0.021011\n",
       "2  13/06/2011    AAR CORP         25.10  Wood Dale    IL  423860.0 -0.551843\n",
       "3  24/09/2007    AAR CORP         29.67  Wood Dale    IL  423860.0 -0.381545\n",
       "4  05/09/2013    AAR CORP         25.63  Wood Dale    IL  423860.0  0.209296\n",
       "5  23/10/2007    AAR CORP         32.22  Wood Dale    IL  423860.0  0.494777\n",
       "6  16/11/2009    AAR CORP         20.36  Wood Dale    IL  423860.0  0.120958\n",
       "7  28/12/2012    AAR CORP         18.09  Wood Dale    IL  423860.0  0.318570\n",
       "8  16/02/2012    AAR CORP         22.71  Wood Dale    IL  423860.0 -0.455907\n",
       "9  10/05/2010    AAR CORP         23.43  Wood Dale    IL  423860.0  0.019537"
      ]
     },
     "execution_count": 22,
     "metadata": {},
     "output_type": "execute_result"
    }
   ],
   "source": [
    "#Read the stock data\n",
    "colnames=['Date', 'CompanyName', 'ClosingPrice', 'City','State','NAICS','LogDiff']\n",
    "stockData = pd.read_csv(\"/data/WorkData/firmEmbeddings/StockData/stockData07to13_logdiff_5_0.1.csv\",names=colnames, header=None)\n",
    "print(len(stockData))\n",
    "\n",
    "stockData.head(10)\n",
    "\n"
   ]
  },
  {
   "cell_type": "code",
   "execution_count": 23,
   "metadata": {},
   "outputs": [
    {
     "data": {
      "image/png": "[encoded data removed]",
      "text/plain": [
       "<matplotlib.figure.Figure at 0x119427eb8>"
      ]
     },
     "metadata": {},
     "output_type": "display_data"
    }
   ],
   "source": [
    "cc=stockData.head(10000)\n",
    "x=range(len(cc))\n",
    "plt.scatter(x,cc[\"LogDiff\"])\n",
    "plt.show()"
   ]
  },
  {
   "cell_type": "code",
   "execution_count": 24,
   "metadata": {},
   "outputs": [
    {
     "name": "stdout",
     "output_type": "stream",
     "text": [
      "1241788\n",
      "Date            datetime64[ns]\n",
      "CompanyName             object\n",
      "ClosingPrice           float64\n",
      "City                    object\n",
      "State                   object\n",
      "NAICS                  float64\n",
      "LogDiff                float64\n",
      "dtype: object\n"
     ]
    },
    {
     "data": {
      "text/html": [
       "<div>\n",
       "<style>\n",
       "    .dataframe thead tr:only-child th {\n",
       "        text-align: right;\n",
       "    }\n",
       "\n",
       "    .dataframe thead th {\n",
       "        text-align: left;\n",
       "    }\n",
       "\n",
       "    .dataframe tbody tr th {\n",
       "        vertical-align: top;\n",
       "    }\n",
       "</style>\n",
       "<table border=\"1\" class=\"dataframe\">\n",
       "  <thead>\n",
       "    <tr style=\"text-align: right;\">\n",
       "      <th></th>\n",
       "      <th>Date</th>\n",
       "      <th>CompanyName</th>\n",
       "      <th>ClosingPrice</th>\n",
       "      <th>City</th>\n",
       "      <th>State</th>\n",
       "      <th>NAICS</th>\n",
       "      <th>LogDiff</th>\n",
       "    </tr>\n",
       "  </thead>\n",
       "  <tbody>\n",
       "    <tr>\n",
       "      <th>0</th>\n",
       "      <td>2008-06-24</td>\n",
       "      <td>AAR CORP</td>\n",
       "      <td>14.76</td>\n",
       "      <td>Wood Dale</td>\n",
       "      <td>IL</td>\n",
       "      <td>423860.0</td>\n",
       "      <td>-0.270565</td>\n",
       "    </tr>\n",
       "  </tbody>\n",
       "</table>\n",
       "</div>"
      ],
      "text/plain": [
       "        Date CompanyName  ClosingPrice       City State     NAICS   LogDiff\n",
       "0 2008-06-24    AAR CORP         14.76  Wood Dale    IL  423860.0 -0.270565"
      ]
     },
     "execution_count": 24,
     "metadata": {},
     "output_type": "execute_result"
    }
   ],
   "source": [
    "\n",
    "stockData['Date'] = pd.to_datetime(stockData['Date'])\n",
    "\n",
    "#Number of data points\n",
    "print(len(stockData))\n",
    "\n",
    "\n",
    "print(stockData.dtypes)\n",
    "stockData.head(1)"
   ]
  },
  {
   "cell_type": "markdown",
   "metadata": {},
   "source": [
    "# Read Case data"
   ]
  },
  {
   "cell_type": "code",
   "execution_count": 25,
   "metadata": {},
   "outputs": [
    {
     "name": "stdout",
     "output_type": "stream",
     "text": [
      "2888\n"
     ]
    },
    {
     "data": {
      "text/html": [
       "<div>\n",
       "<style>\n",
       "    .dataframe thead tr:only-child th {\n",
       "        text-align: right;\n",
       "    }\n",
       "\n",
       "    .dataframe thead th {\n",
       "        text-align: left;\n",
       "    }\n",
       "\n",
       "    .dataframe tbody tr th {\n",
       "        vertical-align: top;\n",
       "    }\n",
       "</style>\n",
       "<table border=\"1\" class=\"dataframe\">\n",
       "  <thead>\n",
       "    <tr style=\"text-align: right;\">\n",
       "      <th></th>\n",
       "      <th>CaseId</th>\n",
       "      <th>Date</th>\n",
       "      <th>Vector</th>\n",
       "      <th>Year</th>\n",
       "      <th>Month</th>\n",
       "      <th>Category</th>\n",
       "      <th>Sub-Category</th>\n",
       "    </tr>\n",
       "  </thead>\n",
       "  <tbody>\n",
       "    <tr>\n",
       "      <th>1089</th>\n",
       "      <td>X16G9CO003</td>\n",
       "      <td>3/19/07</td>\n",
       "      <td>[-1.08903, -2.65365, 1.82479, -4.44473, 0.0766...</td>\n",
       "      <td>2007</td>\n",
       "      <td>3</td>\n",
       "      <td>7.0</td>\n",
       "      <td>Antitrust &amp; Trade</td>\n",
       "    </tr>\n",
       "    <tr>\n",
       "      <th>1090</th>\n",
       "      <td>X17GUKO003</td>\n",
       "      <td>8/17/07</td>\n",
       "      <td>[-2.37343, 2.65059, -2.7418, 0.73231, 0.254526...</td>\n",
       "      <td>2007</td>\n",
       "      <td>8</td>\n",
       "      <td>6.0</td>\n",
       "      <td>Labor Law</td>\n",
       "    </tr>\n",
       "  </tbody>\n",
       "</table>\n",
       "</div>"
      ],
      "text/plain": [
       "          CaseId     Date                                             Vector  \\\n",
       "1089  X16G9CO003  3/19/07  [-1.08903, -2.65365, 1.82479, -4.44473, 0.0766...   \n",
       "1090  X17GUKO003  8/17/07  [-2.37343, 2.65059, -2.7418, 0.73231, 0.254526...   \n",
       "\n",
       "      Year Month  Category       Sub-Category  \n",
       "1089  2007     3       7.0  Antitrust & Trade  \n",
       "1090  2007     8       6.0          Labor Law  "
      ]
     },
     "execution_count": 25,
     "metadata": {},
     "output_type": "execute_result"
    }
   ],
   "source": [
    "#Read the train case data\n",
    "caseDataFile_train = open(\"/data/WorkData/firmEmbeddings/CaseData/traindocvector.pkl\",\"rb\")\n",
    "caseData_train = pickle.load(caseDataFile_train)\n",
    "\n",
    "print(len(caseData_train))\n",
    "caseData_train.head(2)"
   ]
  },
  {
   "cell_type": "code",
   "execution_count": 26,
   "metadata": {},
   "outputs": [
    {
     "name": "stdout",
     "output_type": "stream",
     "text": [
      "477\n"
     ]
    },
    {
     "data": {
      "text/html": [
       "<div>\n",
       "<style>\n",
       "    .dataframe thead tr:only-child th {\n",
       "        text-align: right;\n",
       "    }\n",
       "\n",
       "    .dataframe thead th {\n",
       "        text-align: left;\n",
       "    }\n",
       "\n",
       "    .dataframe tbody tr th {\n",
       "        vertical-align: top;\n",
       "    }\n",
       "</style>\n",
       "<table border=\"1\" class=\"dataframe\">\n",
       "  <thead>\n",
       "    <tr style=\"text-align: right;\">\n",
       "      <th></th>\n",
       "      <th>CaseId</th>\n",
       "      <th>Date</th>\n",
       "      <th>Vector</th>\n",
       "      <th>Year</th>\n",
       "      <th>Month</th>\n",
       "      <th>Category</th>\n",
       "      <th>Sub-Category</th>\n",
       "    </tr>\n",
       "  </thead>\n",
       "  <tbody>\n",
       "    <tr>\n",
       "      <th>612</th>\n",
       "      <td>X1HT4F0N</td>\n",
       "      <td>5/21/13</td>\n",
       "      <td>[-5.35576, -4.48995, -1.21671, -0.793479, 3.50...</td>\n",
       "      <td>2013</td>\n",
       "      <td>5</td>\n",
       "      <td>7.0</td>\n",
       "      <td>Consumer Law</td>\n",
       "    </tr>\n",
       "    <tr>\n",
       "      <th>613</th>\n",
       "      <td>X1JB7OQ003</td>\n",
       "      <td>2/28/13</td>\n",
       "      <td>[-0.0768095, 1.46507, 1.03405, 2.45887, -1.756...</td>\n",
       "      <td>2013</td>\n",
       "      <td>2</td>\n",
       "      <td>6.0</td>\n",
       "      <td>Labor Law</td>\n",
       "    </tr>\n",
       "  </tbody>\n",
       "</table>\n",
       "</div>"
      ],
      "text/plain": [
       "         CaseId     Date                                             Vector  \\\n",
       "612    X1HT4F0N  5/21/13  [-5.35576, -4.48995, -1.21671, -0.793479, 3.50...   \n",
       "613  X1JB7OQ003  2/28/13  [-0.0768095, 1.46507, 1.03405, 2.45887, -1.756...   \n",
       "\n",
       "     Year Month  Category  Sub-Category  \n",
       "612  2013     5       7.0  Consumer Law  \n",
       "613  2013     2       6.0     Labor Law  "
      ]
     },
     "execution_count": 26,
     "metadata": {},
     "output_type": "execute_result"
    }
   ],
   "source": [
    "#Read the test case data\n",
    "caseDataFile_test = open(\"/data/WorkData/firmEmbeddings/CaseData/testdocvector.pkl\",\"rb\")\n",
    "caseData_test = pickle.load(caseDataFile_test)\n",
    "\n",
    "print(len(caseData_test))\n",
    "caseData_test.head(2)\n"
   ]
  },
  {
   "cell_type": "code",
   "execution_count": 27,
   "metadata": {},
   "outputs": [
    {
     "name": "stdout",
     "output_type": "stream",
     "text": [
      "1178\n"
     ]
    },
    {
     "data": {
      "text/html": [
       "<div>\n",
       "<style>\n",
       "    .dataframe thead tr:only-child th {\n",
       "        text-align: right;\n",
       "    }\n",
       "\n",
       "    .dataframe thead th {\n",
       "        text-align: left;\n",
       "    }\n",
       "\n",
       "    .dataframe tbody tr th {\n",
       "        vertical-align: top;\n",
       "    }\n",
       "</style>\n",
       "<table border=\"1\" class=\"dataframe\">\n",
       "  <thead>\n",
       "    <tr style=\"text-align: right;\">\n",
       "      <th></th>\n",
       "      <th>CaseId</th>\n",
       "      <th>Date</th>\n",
       "      <th>Vector</th>\n",
       "      <th>Year</th>\n",
       "      <th>Month</th>\n",
       "      <th>Category</th>\n",
       "      <th>Sub-Category</th>\n",
       "    </tr>\n",
       "  </thead>\n",
       "  <tbody>\n",
       "    <tr>\n",
       "      <th>0</th>\n",
       "      <td>X1HND4A003</td>\n",
       "      <td>5/11/12</td>\n",
       "      <td>[-0.62676, -6.11609, -0.269485, -5.1118, -2.90...</td>\n",
       "      <td>2012</td>\n",
       "      <td>5</td>\n",
       "      <td>7.0</td>\n",
       "      <td>Contracts</td>\n",
       "    </tr>\n",
       "    <tr>\n",
       "      <th>1</th>\n",
       "      <td>X1IRIC8003</td>\n",
       "      <td>11/5/12</td>\n",
       "      <td>[-0.678548, -2.43954, -2.53863, -3.21261, 1.29...</td>\n",
       "      <td>2012</td>\n",
       "      <td>11</td>\n",
       "      <td>7.0</td>\n",
       "      <td>Damages &amp; Remedies</td>\n",
       "    </tr>\n",
       "  </tbody>\n",
       "</table>\n",
       "</div>"
      ],
      "text/plain": [
       "       CaseId     Date                                             Vector  \\\n",
       "0  X1HND4A003  5/11/12  [-0.62676, -6.11609, -0.269485, -5.1118, -2.90...   \n",
       "1  X1IRIC8003  11/5/12  [-0.678548, -2.43954, -2.53863, -3.21261, 1.29...   \n",
       "\n",
       "   Year Month  Category        Sub-Category  \n",
       "0  2012     5       7.0           Contracts  \n",
       "1  2012    11       7.0  Damages & Remedies  "
      ]
     },
     "execution_count": 27,
     "metadata": {},
     "output_type": "execute_result"
    }
   ],
   "source": [
    "#Read the validation case data\n",
    "caseDataFile_val = open(\"/data/WorkData/firmEmbeddings/CaseData/validationdocvector.pkl\",\"rb\")\n",
    "caseData_val = pickle.load(caseDataFile_val)\n",
    "\n",
    "print(len(caseData_val))\n",
    "\n",
    "caseData_val.head(2)"
   ]
  },
  {
   "cell_type": "code",
   "execution_count": 28,
   "metadata": {},
   "outputs": [
    {
     "data": {
      "text/html": [
       "<div>\n",
       "<style>\n",
       "    .dataframe thead tr:only-child th {\n",
       "        text-align: right;\n",
       "    }\n",
       "\n",
       "    .dataframe thead th {\n",
       "        text-align: left;\n",
       "    }\n",
       "\n",
       "    .dataframe tbody tr th {\n",
       "        vertical-align: top;\n",
       "    }\n",
       "</style>\n",
       "<table border=\"1\" class=\"dataframe\">\n",
       "  <thead>\n",
       "    <tr style=\"text-align: right;\">\n",
       "      <th></th>\n",
       "      <th>CaseId</th>\n",
       "      <th>Date</th>\n",
       "      <th>Vector</th>\n",
       "      <th>Year</th>\n",
       "      <th>Month</th>\n",
       "      <th>Category</th>\n",
       "      <th>Sub-Category</th>\n",
       "    </tr>\n",
       "  </thead>\n",
       "  <tbody>\n",
       "    <tr>\n",
       "      <th>1089</th>\n",
       "      <td>X16G9CO003</td>\n",
       "      <td>2007-03-19</td>\n",
       "      <td>[-1.08903, -2.65365, 1.82479, -4.44473, 0.0766...</td>\n",
       "      <td>2007</td>\n",
       "      <td>3</td>\n",
       "      <td>7.0</td>\n",
       "      <td>Antitrust &amp; Trade</td>\n",
       "    </tr>\n",
       "  </tbody>\n",
       "</table>\n",
       "</div>"
      ],
      "text/plain": [
       "          CaseId       Date  \\\n",
       "1089  X16G9CO003 2007-03-19   \n",
       "\n",
       "                                                 Vector  Year Month  Category  \\\n",
       "1089  [-1.08903, -2.65365, 1.82479, -4.44473, 0.0766...  2007     3       7.0   \n",
       "\n",
       "           Sub-Category  \n",
       "1089  Antitrust & Trade  "
      ]
     },
     "execution_count": 28,
     "metadata": {},
     "output_type": "execute_result"
    }
   ],
   "source": [
    "#Make the date format of all the datasets same\n",
    "caseData_train['Date'] =  pd.to_datetime(caseData_train['Date'])\n",
    "caseData_test['Date'] =  pd.to_datetime(caseData_test['Date'])\n",
    "caseData_val['Date'] =  pd.to_datetime(caseData_val['Date'])\n",
    "caseData_train.head(1)"
   ]
  },
  {
   "cell_type": "markdown",
   "metadata": {},
   "source": [
    "# Join Data on date"
   ]
  },
  {
   "cell_type": "code",
   "execution_count": 29,
   "metadata": {
    "collapsed": true
   },
   "outputs": [],
   "source": [
    "#Join stock and train case data\n",
    "joined_train_data = pd.merge(caseData_train,stockData,how='inner',on='Date')\n",
    "\n",
    "\n",
    "#Join stock and test case data\n",
    "joined_test_data = pd.merge(caseData_test,stockData,how='inner',on='Date')\n",
    "\n",
    "#joined_test_data = joined_train_data.head(1000)\n",
    "joined_val_data = pd.merge(caseData_val,stockData,how='inner',on='Date')"
   ]
  },
  {
   "cell_type": "code",
   "execution_count": 30,
   "metadata": {},
   "outputs": [
    {
     "name": "stdout",
     "output_type": "stream",
     "text": [
      "1950769\n",
      "263552\n"
     ]
    },
    {
     "data": {
      "text/plain": [
       "683810"
      ]
     },
     "execution_count": 30,
     "metadata": {},
     "output_type": "execute_result"
    }
   ],
   "source": [
    "print(len(joined_train_data))\n",
    "print(len(joined_test_data))\n",
    "len(joined_val_data)"
   ]
  },
  {
   "cell_type": "code",
   "execution_count": 31,
   "metadata": {
    "collapsed": true
   },
   "outputs": [],
   "source": [
    "\n",
    "joined_train_data.to_pickle('/data/WorkData/firmEmbeddings/JoinDataPrep/training_data_CaseCompanyStockChange.pkl')\n",
    "#joined_train_data.to_cvs('/Users/Anshu/MLCS_Project/training_data_CaseCompanyStockChange.csv')\n",
    "\n",
    "joined_test_data.to_pickle('/data/WorkData/firmEmbeddings/JoinDataPrep/testing_data_CaseCompanyStockChange.pkl')\n",
    "joined_val_data.to_pickle('/data/WorkData/firmEmbeddings/JoinDataPrep/validation_data_CaseCompanyStockChange.pkl')"
   ]
  },
  {
   "cell_type": "code",
   "execution_count": 32,
   "metadata": {},
   "outputs": [
    {
     "data": {
      "text/html": [
       "<div>\n",
       "<style>\n",
       "    .dataframe thead tr:only-child th {\n",
       "        text-align: right;\n",
       "    }\n",
       "\n",
       "    .dataframe thead th {\n",
       "        text-align: left;\n",
       "    }\n",
       "\n",
       "    .dataframe tbody tr th {\n",
       "        vertical-align: top;\n",
       "    }\n",
       "</style>\n",
       "<table border=\"1\" class=\"dataframe\">\n",
       "  <thead>\n",
       "    <tr style=\"text-align: right;\">\n",
       "      <th></th>\n",
       "      <th>CaseId</th>\n",
       "      <th>Date</th>\n",
       "      <th>Vector</th>\n",
       "      <th>Year</th>\n",
       "      <th>Month</th>\n",
       "      <th>Category</th>\n",
       "      <th>Sub-Category</th>\n",
       "      <th>CompanyName</th>\n",
       "      <th>ClosingPrice</th>\n",
       "      <th>City</th>\n",
       "      <th>State</th>\n",
       "      <th>NAICS</th>\n",
       "      <th>LogDiff</th>\n",
       "    </tr>\n",
       "  </thead>\n",
       "  <tbody>\n",
       "    <tr>\n",
       "      <th>0</th>\n",
       "      <td>X1HND4A003</td>\n",
       "      <td>2012-05-11</td>\n",
       "      <td>[-0.62676, -6.11609, -0.269485, -5.1118, -2.90...</td>\n",
       "      <td>2012</td>\n",
       "      <td>5</td>\n",
       "      <td>7.0</td>\n",
       "      <td>Contracts</td>\n",
       "      <td>AAR CORP</td>\n",
       "      <td>14.95</td>\n",
       "      <td>Wood Dale</td>\n",
       "      <td>IL</td>\n",
       "      <td>423860.0</td>\n",
       "      <td>-0.263395</td>\n",
       "    </tr>\n",
       "  </tbody>\n",
       "</table>\n",
       "</div>"
      ],
      "text/plain": [
       "       CaseId       Date                                             Vector  \\\n",
       "0  X1HND4A003 2012-05-11  [-0.62676, -6.11609, -0.269485, -5.1118, -2.90...   \n",
       "\n",
       "   Year Month  Category Sub-Category CompanyName  ClosingPrice       City  \\\n",
       "0  2012     5       7.0    Contracts    AAR CORP         14.95  Wood Dale   \n",
       "\n",
       "  State     NAICS   LogDiff  \n",
       "0    IL  423860.0 -0.263395  "
      ]
     },
     "execution_count": 32,
     "metadata": {},
     "output_type": "execute_result"
    }
   ],
   "source": [
    "joined_val_data.head(1)"
   ]
  },
  {
   "cell_type": "code",
   "execution_count": null,
   "metadata": {
    "collapsed": true
   },
   "outputs": [],
   "source": []
  }
 ],
 "metadata": {
  "kernelspec": {
   "display_name": "Python 3",
   "language": "python",
   "name": "python3"
  },
  "language_info": {
   "codemirror_mode": {
    "name": "ipython",
    "version": 3
   },
   "file_extension": ".py",
   "mimetype": "text/x-python",
   "name": "python",
   "nbconvert_exporter": "python",
   "pygments_lexer": "ipython3",
   "version": "3.6.3"
  }
 },
 "nbformat": 4,
 "nbformat_minor": 2
}
