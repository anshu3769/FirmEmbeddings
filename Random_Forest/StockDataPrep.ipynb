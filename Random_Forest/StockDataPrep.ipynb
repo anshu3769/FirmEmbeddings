{
 "cells": [
  {
   "cell_type": "code",
   "execution_count": null,
   "metadata": {},
   "outputs": [],
   "source": [
    "import pandas as pd\n",
    "import numpy as np\n",
    "\n",
    "data = pd.read_excel(\"stocks.xlsx\")"
   ]
  },
  {
   "cell_type": "code",
   "execution_count": null,
   "metadata": {},
   "outputs": [],
   "source": [
    "\n",
    "df = data[['Company Name','Data Date - Security Monthly','Trading Volume - Monthly']]"
   ]
  },
  {
   "cell_type": "code",
   "execution_count": null,
   "metadata": {},
   "outputs": [],
   "source": [
    "df['Data Date - Security Monthly'] =  pd.to_datetime(df['Data Date - Security Monthly'], format='%d/%m/%Y')\n",
    "df.dtypes\n",
    "\n",
    "df['Month'] = pd.DatetimeIndex(df['Data Date - Security Monthly']).month\n",
    "df.head(12)\n",
    "df_encoded = pd.get_dummies(df)\n",
    "df_encoded.head(1)\n",
    "\n",
    "df_encoded.to_pickle(\"StockData.pkl\") "
   ]
  }
 ],
 "metadata": {
  "kernelspec": {
   "display_name": "Python 3",
   "language": "python",
   "name": "python3"
  },
  "language_info": {
   "codemirror_mode": {
    "name": "ipython",
    "version": 3
   },
   "file_extension": ".py",
   "mimetype": "text/x-python",
   "name": "python",
   "nbconvert_exporter": "python",
   "pygments_lexer": "ipython3",
   "version": "3.6.3"
  }
 },
 "nbformat": 4,
 "nbformat_minor": 2
}
